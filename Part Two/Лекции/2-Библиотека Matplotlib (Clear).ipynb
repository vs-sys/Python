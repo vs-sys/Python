{
 "cells": [
  {
   "attachments": {},
   "cell_type": "markdown",
   "id": "476b8f31-0d29-4a17-9772-5c7894483e45",
   "metadata": {},
   "source": [
    "## Объектно-ориентированное программирование и информационная безопасность\n",
    "\n",
    "*Валерий Семенов, Самарский университет*  \n",
    "<h1 style=\"text-align:center\">Библиотека Matplotlib</h1>\n",
    "<h2 style=\"text-align:center\">Иерархия объектов</h2>\n",
    "\n",
    "<div style=\"text-indent:30px; text-align:justify\">Объект <strong>Figure</strong> (Рисунок) – это самый важный внешний контейнер для графики, это область на которой все нарисовано (подложка). Он может включать в себя несколько объектов <strong>Axes</strong> (Область рисования).</div>\n",
    "<div style=\"text-indent:30px; text-align:justify\"><strong>Axes</strong> – это область на которой чаще всего и отражаются графики, а так же все вспомогательные атрибуты (линии сетки, метки, указатели и т.д.). Часто, установка этой области сопровождается вызовом <strong>subplot</strong>, который и помещает <strong>Axes</strong> на регулярную сетку. Поэтому, так же часто <strong>Axes</strong> и <strong>Subplot</strong> можно считать синонимами.</div>\n",
    "<div style=\"text-indent:30px; text-align:justify\">Каждая область Axes содержит <strong>XAxis</strong> и <strong>YAxis</strong> (Координатные оси). На них наносятся деления  (<strong>ticks</strong>) и подписи к делениям (<strong>ticklabels</strong>).</div>\n",
    "<div style=\"text-indent:30px; text-align:justify\">Вы можете рассматривать объект <strong>Figure</strong> как похожий на ящик контейнер, содержащий один или несколько объектов <strong>Axes</strong>. Под объектами Axes, в порядке иерархии расположены меньшие объекты, такие как индивидуальные линии, отметки, легенды и текстовые боксы. Практически каждый элемент диаграммы – это собственный управляемый объект Python, вплоть до ярлыков и отметок:</div>\n",
    "\n",
    "<div style=\"text-align:center\"><img src=\"Figure.png\"></div>\n",
    "\n",
    "<div style=\"text-indent:30px; text-align:justify\">В том, что  <strong>Figure</strong>  и  <strong>Axes</strong>  это разные области, можно легко убедиться, если изменить их цвет:</div>"
   ]
  },
  {
   "cell_type": "code",
   "execution_count": null,
   "id": "ba4a9297-df64-434c-9577-0a9c74c5b9b5",
   "metadata": {},
   "outputs": [],
   "source": [
    "import matplotlib.pyplot as plt # Импортируем модуль\n",
    "\n",
    "fig, ax = plt.subplots()        # Получаем объект фигуры и объекты осей\n",
    "fig.set(facecolor = 'silver')   # Цвет всей фигуры \n",
    "ax.set(facecolor = 'red')       # Цвет фона графика\n",
    "plt.show()"
   ]
  },
  {
   "cell_type": "markdown",
   "id": "d6f0625d-0354-44f3-9a98-378bd01db8dc",
   "metadata": {},
   "source": [
    "<div style=\"text-indent:30px; text-align:justify\">Функция <strong>plt.subplots()</strong> возвращает кортеж, содержащий  <strong><i>фигуру</i></strong> и <strong><i>объекты осей</i></strong>.</div> \n",
    "<div style=\"text-indent:30px; text-align:justify\">Таким образом, при использовании  <strong>fig, ax = plt.subplots()</strong>  вы распаковываете этот кортеж в переменные  <strong>fig</strong>  и  <strong>ax</strong> . Наличие  <strong>fig</strong>  полезно, если вы хотите изменить атрибуты уровня фигуры или сохранить фигуру в виде файла изображения (например,  <strong>fig.savefig('yourfilename.png')</strong>).</div>\n",
    "\n",
    "<h2 style=\"text-align:center\">Основные элементы графика</h2>\n",
    "\n",
    "<div style=\"text-indent:30px; text-align:justify\">Рассмотрим основные термины и понятия, касающиеся изображения графика, с которыми необходимо будет познакомиться, чтобы в дальнейшем не возникало трудностей при изучении представленных примеров по использованию библиотеки  Matplotlib.</div>\n",
    "\n",
    "<div style=\"text-align:center\"><img src=\"Elements.png\"></div>"
   ]
  },
  {
   "cell_type": "markdown",
   "id": "4392e8c0-b36b-4021-8d9e-765ab9c7c0e7",
   "metadata": {},
   "source": [
    "<div style=\"text-indent:30px; text-align:justify\">Корневым элементом при построении графиков в системе Matplotlib является рисунок <strong>Figure</strong>. На рисунке может быть несколько областей рисования <strong>Axes</strong>, но конкретная область рисования <strong>Axes</strong> может принадлежать только одному рисунку <strong>Figure</strong>.</div>\n",
    "<div style=\"text-indent:30px; text-align:justify\">Все, что нарисовано на рисунке выше является элементами фигуры. Рассмотрим ее составляющие более подробно.</div> \n",
    "\n",
    "<h2 style=\"text-align:center\">График</h2>\n",
    "\n",
    "<div style=\"text-indent:30px; text-align:justify\">На рисунке представлены два графика - линейный и точечный. Библиотека Matplotlib  предоставляет огромное количество различных настроек, которые можно использовать для того, чтобы придавать графику требуемый вид: цвет, толщину, тип, стиль линии и многое другое.</div>\n",
    "\n",
    "<h2 style=\"text-align:center\">Сетка и легенда</h2>\n",
    "\n",
    "<div style=\"text-indent:30px; text-align:justify\">Сетка и легенда являются элементами фигуры, которые значительно повышают информативность графика. Сетка может быть <i>основной</i> (<strong>major</strong>) и <i>дополнительной</i> (<strong>minor</strong>). Каждому типу сетки можно задавать цвет, толщину линии и тип. Для отображения сетки и легенды используются соответствующие команды.</div>\n",
    "\n",
    "<h2 style=\"text-align:center\">Оси</h2>\n",
    "\n",
    "<div style=\"text-indent:30px; text-align:justify\">Вторым, после непосредственно самого графика, по важности элементом фигуры являются оси. Для каждой оси можно задать метку (подпись). Также как и линии сетки, деления осей бывают <i>основными</i> (<strong>major</strong>) и <i>дополнительными</i> (<strong>minor</strong>). Естественно, что вы можете задать любые параметры для элементов шкалы: их подписи, размер, толщину и диапазоны.</div>\n",
    "<div style=\"text-indent:30px; text-align:justify\">Для управления <i>делениями осей</i> – <strong>тиками</strong> необходим специальный модуль <strong>matplotlib.ticker</strong>. Не следует забывать, что чаще всего, дополнительные тики применяют вместе с дополнительной сеткой.</div>\n",
    "<div style=\"text-indent:30px; text-align:justify; margin-top:10px\">Ниже представлен код, с помощью которого была построена фигура, изображенная на рисунке.</div>"
   ]
  },
  {
   "cell_type": "code",
   "execution_count": null,
   "id": "47affcc6-421b-465f-8920-c40bc25d22dc",
   "metadata": {},
   "outputs": [],
   "source": [
    "# Импорт библиотек\n",
    "import numpy as np\n",
    "import matplotlib.pyplot as plt\n",
    "from matplotlib.ticker import (AutoMinorLocator)\n",
    "\n",
    "x = np.linspace(0, 10, 10)  # Создание массива значений аргумента X\n",
    "y1 = 4*x\n",
    "y2 = [i**2 for i in x]\n",
    "\n",
    "fig, ax = plt.subplots()    # Получаем объект фигуры и объекты осей\n",
    "\n",
    "ax.plot(x, y2, label='y2 = x^2')             # Линейный график\n",
    "ax.scatter(x, y1, c='red', label='y1 = 4*x') # Точечный график\n",
    "\n",
    "# Заголовок, подписи осей, сетка, легенда\n",
    "ax.set_title('Графики зависимостей: y1=4*x, y2=x^2', fontsize=16)\n",
    "ax.set_xlabel('x', fontsize=14)\n",
    "ax.set_ylabel('y1, y2', fontsize=14)\n",
    "ax.grid(which='major', linewidth=2)\n",
    "ax.grid(which='minor', linestyle='--', color='gray', linewidth=0.5)\n",
    "ax.legend()\n",
    "\n",
    "#  Параметры основных и вспомогательных делений (тиков)\n",
    "ax.xaxis.set_minor_locator(AutoMinorLocator())\n",
    "ax.yaxis.set_minor_locator(AutoMinorLocator())\n",
    "ax.tick_params(which='major', length=10, width=2)\n",
    "ax.tick_params(which='minor', length=5, width=1)\n",
    "\n",
    "plt.show() # Отображение графиков функций"
   ]
  },
  {
   "cell_type": "markdown",
   "id": "6ccaeff0-dcfb-4993-9422-8dc0ba53426c",
   "metadata": {},
   "source": [
    "<div style=\"text-indent:30px; text-align:justify\">Как видно из приведенных примеров, цвет можно задавать, используя параметр <strong>color</strong> или сокращенно записывать одну букву <strong>c</strong>. Сам цвет можно обозначать как одиночной буквой (<strong>b, g, r, c, m, y, k, w</strong>) для базовых цветов, так и по имени. Список всех имен для задания цвета можно посмотреть по этой <a href=\"https://matplotlib.org/stable/gallery/color/named_colors.html\"><strong>ссылке</strong></a>.</div>\n",
    "<div style=\"text-indent:30px; text-align:justify\">Также цвет можно задавать в формате <strong>RGB</strong>, как это принято в HTML и CSS, задавая компоненты цвета в 16-ричной системе счисления.</div> \n",
    "<div style=\"text-indent:30px; text-align:justify; margin-top:10px\">Например:</div>"
   ]
  },
  {
   "cell_type": "code",
   "execution_count": null,
   "id": "e9fe4418-9c46-40c5-9033-ad2f57208d1d",
   "metadata": {},
   "outputs": [],
   "source": [
    "import matplotlib.pyplot as plt\n",
    "plt.plot([1,2,3], [5,3,2], color=\"#FF6699\", linewidth=12)"
   ]
  },
  {
   "cell_type": "markdown",
   "id": "16b3a9d6-c3d2-4120-bddd-407909a4ae45",
   "metadata": {},
   "source": [
    "<div style=\"text-indent:30px; text-align:justify\">Библиотека Matplotlib  использует словарь именованных цветов из своего модуля <strong>color.py</strong>.</div> \n",
    "<div style=\"text-indent:30px; text-align:justify; margin-top:10px\">Вы можете самостоятельно вывести весь список имен цветов и соответствующих им шестнадцатеричных значений, запустив следующую простую программу:</div>"
   ]
  },
  {
   "cell_type": "code",
   "execution_count": null,
   "id": "c359ccc9-dc9f-48fa-846f-b11fb821a0ba",
   "metadata": {},
   "outputs": [],
   "source": [
    "import matplotlib\n",
    "for name, hex in matplotlib.colors.cnames.items():\n",
    "    print(\"{:<20} = {}\".format(name, hex))"
   ]
  },
  {
   "cell_type": "markdown",
   "id": "343fc29c-1d25-41d3-8f34-61d72bcefba8",
   "metadata": {},
   "source": [
    "<div style=\"text-indent:30px; text-align:justify\">Большинство графиков: линий, гистограмм, круговых диаграмм и других отображений данных происходит на объекте <strong>Axes</strong>. Поэтому, для рисования на <strong>Axes</strong>, необходимо использовать какой-либо из его методов.</div>\n",
    "<div style=\"text-indent:30px; text-align:justify\">В примере мы использовали два метода:</div>\n",
    "<div style=\" margin-left:50px\">\n",
    "<li style=\"text-align:justify\"><strong>plot</strong> – линейный график;</li> \n",
    "<li style=\"text-align:justify\"><strong>scatter</strong> – точечный график.</li>\n",
    "</div>\n",
    "<div style=\"text-indent:30px; text-align:justify\">Расположение делений определяется объектом <strong>Locator</strong>, а подписи делений обрабатывает объект <strong>Formatter</strong>. Конфигурация координатных осей заключается в комбинировании различных свойств объектов <strong>Locator</strong> и <strong>Formatter</strong>.</div>\n",
    "<div style=\"text-indent:30px; text-align:justify\">Методы <strong>Locator</strong> и <strong>Formatter</strong> относятся к модулю <strong>matplotlib.ticker</strong>. Этот модуль содержит классы, позволяющие наиболее полно определять форматирование и местоположение делений. Это самый низкоуровневый способ форматирования делений на координатных осях. Контейнеры координатных осей <strong>XAxis</strong> и <strong>YAxis</strong> имеют специальные методы для работы с объектами типа Formatter: <strong>set_major_locator()</strong>, <strong>set_minor_locator()</strong> и <strong>set_major_formatter()</strong> и <strong>set_minor_formatter()</strong>.</div> \n",
    "<div style=\"text-indent:30px; text-align:justify\">Класс <strong>Locator</strong> - базовый класс для всех производных классов-локаторов, отвечающих за расположение делений. Локаторы работают с автомасштабированием в пределах области изменения данных, и, исходя из этого, определяют положение делений на оси. Одним из наиболее удобных является полуавтоматический локатор <strong>MultipleLocator</strong>. В качестве входящих данных он принимает целое число, например 10, и самостоятельно подбирает пределы изменений на оси и располагает деления в местах, кратных заданному числу. Подкласс <strong>AutoMinorLocator()</strong> позволяет автоматически определить положение вспомогательных делений.</div> \n",
    "<div style=\"text-indent:30px; text-align:justify\">Класс <strong>Formatter</strong> является базовым для всех производных классов-форматеров, отвечающих за форматирование надписей делений. Форматеры в качестве входящих данных принимают строку формата, например <strong>\"%d\"</strong>, которая применяется к подписи каждого деления. Разные подклассы предоставляют разный функционал. Подкласс <strong>NullFormatter()</strong> позволяет скрыть все подписи на выбранной оси.</div>\n",
    "\n",
    "<h2 style=\"text-align:center\">Работа с функцией  <strong>subplots()</strong></h2>\n",
    "\n",
    "<div style=\"text-indent:30px; text-align:justify\">Неудобство использования последовательного вызова функций <strong>subplot()</strong> заключается в том, что каждый раз приходится указывать количество строк и столбцов сетки. Для того чтобы этого избежать, можно воспользоваться функцией <strong>subplots()</strong>, из всех ее параметров нас интересуют только первые два, через них передается количество строк и столбцов сетки. Функция <strong>subplots()</strong> возвращает два объекта, первый — это объект <strong>Figure</strong>, подложка, на которой будут размещены поля с графиками, второй — объект (или массив объектов) <strong>Axes</strong>, через который можно получить полный доступ к настройке внешнего вида отображаемых элементов.</div>\n",
    "<div style=\"text-indent:30px; text-align:justify; margin-top:10px\">Решим задачу вывода четырех графиков с помощью <strong>subplots()</strong>:</div>\n"
   ]
  },
  {
   "cell_type": "code",
   "execution_count": null,
   "id": "758e8ec3-38dd-40ce-b48f-d03437f93db8",
   "metadata": {},
   "outputs": [],
   "source": [
    "# Импорт функций\n",
    "import numpy as np\n",
    "import matplotlib.pyplot as plt\n",
    "\n",
    "x = np.linspace(-10, 10, 40) # Создание массива значений аргумента X\n",
    "\n",
    "fig, ax = plt.subplots(2,2)  # Получаем объект фигуры и объекты осей\n",
    "\n",
    "ax[0, 0].plot(x, np.random.random(40), '-')\n",
    "ax[0, 1].plot(x, np.random.random(40), '--')\n",
    "ax[1, 0].plot(x, np.random.random(40), '-.')\n",
    "ax[1, 1].plot(x, np.random.random(40), ':')\n",
    "\n",
    "plt.show()                   # Отображение графиков функций"
   ]
  },
  {
   "cell_type": "markdown",
   "id": "5a279fde-3243-4e2a-bbcd-7fc92baf44da",
   "metadata": {},
   "source": [
    "<div style=\"text-indent:30px; text-align:justify; margin-top:10px\">Сравним с вариантом вывода четырех графиков с помощью <strong>subplot()</strong> из модуля <strong>matplotlib.pyplot:</strong></div>"
   ]
  },
  {
   "cell_type": "code",
   "execution_count": null,
   "id": "04a33769-4afc-42e9-a355-c83eff6114dc",
   "metadata": {},
   "outputs": [],
   "source": [
    "# Импорт функций\n",
    "import numpy as np\n",
    "import matplotlib.pyplot as plt\n",
    "\n",
    "x = np.linspace(-10, 10, 40) # Создание массива значений аргумента X\n",
    "\n",
    "# Построение графика 1\n",
    "plt.subplot(2, 2, 1)\n",
    "plt.plot(x, np.random.random(40), '-')\n",
    "\n",
    "# Построение графика 2\n",
    "plt.subplot(2, 2, 2)\n",
    "plt.plot(x, np.random.random(40), '--')\n",
    "\n",
    "# Построение графика 3\n",
    "plt.subplot(2, 2, 3)\n",
    "plt.plot(x, np.random.random(40), '-.')\n",
    "\n",
    "# Построение графика 4\n",
    "plt.subplot(2, 2, 4)\n",
    "plt.plot(x, np.random.random(40), ':')\n",
    "\n",
    "plt.show()                   # Отображение графиков функций"
   ]
  },
  {
   "cell_type": "markdown",
   "id": "0bca867d-0e13-46a8-a38b-803b39b92cb9",
   "metadata": {},
   "source": [
    "<h2 style=\"text-align:center\">Текстовые элементы графика</h2>\n",
    "\n",
    "<div style=\"text-indent:30px; text-align:justify\">В части текстового наполнения при построении графика выделяют следующие составляющие:</div>\n",
    "<div style=\" margin-left:50px\">\n",
    "<li style=\"text-align:justify\">заголовок поля <strong>title</strong>;</li> \n",
    "<li style=\"text-align:justify\">заголовок фигуры <strong>suptitle</strong>;</li>\n",
    "<li style=\"text-align:justify\">подписи осей <strong>xlabel</strong>, <strong>ylabel</strong>;</li>\n",
    "<li style=\"text-align:justify\">текстовый блок на поле графика <strong>text</strong>, либо на фигуре <strong>figtext</strong>;</li>    \n",
    "<li style=\"text-align:justify\">аннотация <strong>annotate</strong> – текст с указателем.</li>    \n",
    "</div>\n",
    "<div style=\"text-indent:30px; text-align:justify\">У каждого элемента, который содержит текст, помимо специфических параметров, отвечающих за его настройку, есть параметры класса <strong>Text</strong>, которые открывают доступ к большому числу настроек внешнего вида и расположения текстового элемента.</div>\n",
    "<div style=\"text-indent:30px; text-align:justify; margin-top:10px\">Код программы, показывающей все указанные выше текстовые элементы:</div>"
   ]
  },
  {
   "cell_type": "code",
   "execution_count": null,
   "id": "2ed74e41-6395-433e-a22f-1cae4ec67c10",
   "metadata": {},
   "outputs": [],
   "source": [
    "import matplotlib.pyplot as plt\n",
    "\n",
    "plt.figure(figsize=(10,6))\n",
    "plt.figtext(0.45, 0.02, \"Название рисунка\")\n",
    "plt.suptitle('Название диаграммы')\n",
    "plt.subplot(121)\n",
    "plt.title('Заголовок-1')\n",
    "plt.xlabel('Ось X')\n",
    "plt.ylabel('Ось Y')\n",
    "plt.text(0.2, 0.2, 'ТЕКСТ-1')\n",
    "plt.annotate('Пояснение', xy=(0.2, 0.4), xytext=(0.6, 0.7), \n",
    "             arrowprops=dict(facecolor='red', shrink=0.05))\n",
    "plt.subplot(122)\n",
    "plt.title('Заголовок-2')\n",
    "plt.xlabel('Ось X')\n",
    "plt.ylabel('Ось Y')\n",
    "plt.text(0.5, 0.5, 'ТЕКСТ-2')\n",
    "\n",
    "plt.show()"
   ]
  },
  {
   "cell_type": "markdown",
   "id": "ab4238b8-a4fc-4f90-94b9-f0146f1747ae",
   "metadata": {},
   "source": [
    "<div style=\"text-indent:30px; text-align:justify\">Некоторые из представленных текстовых элементов мы уже рассматривали раньше.</div>\n",
    "\n",
    "<h2 style=\"text-align:center\">Заливка (закрашивание) областей</h2>\n",
    "\n",
    "<div style=\"text-indent:30px; text-align:justify\">Для заливки областей используется функция <strong>fill_between()</strong>:</div>\n",
    "\n",
    "<div style=\"text-indent:60px; text-align:justify\"><strong>fill_between(x, y1, y2=0, where=None)</strong></div>\n",
    "\n",
    "<div style=\"text-indent:30px; text-align:justify\">Основные параметры функции:</div>\n",
    "<div style=\" margin-left:50px\">\n",
    "<li style=\"text-align:justify\"><strong>x</strong> – массив длины N;</li> \n",
    "<li style=\"text-align:justify\"><strong>y1</strong> – массив длины N или скалярное значение (первая кривая);</li>\n",
    "<li style=\"text-align:justify\"><strong>y2</strong> – массив длины N или скалярное значение (вторая кривая);</li>\n",
    "<li style=\"text-align:justify\"><strong>where</strong> – опция для указания условий заливки.</li>    \n",
    "</div>\n",
    "<div style=\"text-indent:30px; text-align:justify; margin-top:10px\">Ниже приведен пример программы с заливкой: </div>"
   ]
  },
  {
   "cell_type": "code",
   "execution_count": null,
   "id": "77f77060-15d5-46d4-8d39-6317feec2ea9",
   "metadata": {},
   "outputs": [],
   "source": [
    "# Импорт библиотек\n",
    "import numpy as np\n",
    "import matplotlib.pyplot as plt\n",
    "\n",
    "# Набор данных для эксперимента\n",
    "x = np.arange(0.0, 5, 0.01)\n",
    "y = np.cos(x*np.pi)\n",
    "\n",
    "# График с заливкой\n",
    "plt.plot(x, y, c = 'r')\n",
    "plt.fill_between(x, y)\n",
    "\n",
    "plt.show() # Отображение графиков функций"
   ]
  },
  {
   "cell_type": "markdown",
   "id": "b134126e-2a3e-441e-9b8c-a0d2ab583473",
   "metadata": {},
   "source": [
    "<div style=\"text-indent:30px; text-align:justify\">Изменим правила заливки, используя опцию <strong>where</strong>:</div>\n",
    "<div style=\"text-indent:60px; text-align:justify\"><strong>plt.fill_between(x, y, where = (y > 0.75) | (y < -0.75))</strong></div>\n"
   ]
  },
  {
   "cell_type": "code",
   "execution_count": null,
   "id": "00302da5-047b-4efb-88e0-e2fe62f9a697",
   "metadata": {},
   "outputs": [],
   "source": [
    "# Импорт библиотек\n",
    "import numpy as np\n",
    "import matplotlib.pyplot as plt\n",
    "\n",
    "# Набор данных для эксперимента\n",
    "x = np.arange(0.0, 5, 0.01)\n",
    "y = np.cos(x*np.pi)\n",
    "\n",
    "# График с частичной заливкой\n",
    "plt.plot(x, y, c = 'r')\n",
    "plt.grid()\n",
    "plt.fill_between(x, y, where = (y > 0.75) | (y < -0.75))\n",
    "\n",
    "plt.show() # Отображение графиков функций"
   ]
  },
  {
   "cell_type": "markdown",
   "id": "074bd4c3-1568-4120-882f-806143ecd8bf",
   "metadata": {},
   "source": [
    "<div style=\"text-indent:30px; text-align:justify\">Заливка области между <strong>0</strong> и <strong>y</strong> при условии, что  <strong>y >= 0</strong> (верхняя часть графика):</div>\n",
    "<div style=\"text-indent:60px; text-align:justify\"><strong>plt.fill_between(x, y, where = y > 0)</strong></div>"
   ]
  },
  {
   "cell_type": "code",
   "execution_count": null,
   "id": "0b870581-c23d-4417-bf2b-efe25ce3dfc8",
   "metadata": {},
   "outputs": [],
   "source": [
    "# Импорт библиотек\n",
    "import numpy as np\n",
    "import matplotlib.pyplot as plt\n",
    "\n",
    "# Набор данных для эксперимента\n",
    "x = np.arange(0.0, 5, 0.01)\n",
    "y = np.cos(x*np.pi)\n",
    "\n",
    "# График с частичной заливкой\n",
    "plt.plot(x, y, c = 'r')\n",
    "plt.grid()\n",
    "plt.fill_between(x, y, where = y > 0)\n",
    "\n",
    "plt.show() # Отображение графиков функций"
   ]
  },
  {
   "cell_type": "markdown",
   "id": "1e889da8-36bd-46b2-85eb-780d556f4200",
   "metadata": {},
   "source": [
    "<div style=\"text-indent:30px; text-align:justify\">Заливка между уровнем, равным <strong>0.5</strong>  и  <strong>y</strong> при условии, что <strong>y >= 0.5</strong>:</div>\n",
    "<div style=\"text-indent:60px; text-align:justify\"><strong>plt.fill_between(x, y, 0.5, where = y > 0.5)</strong></div>"
   ]
  },
  {
   "cell_type": "code",
   "execution_count": null,
   "id": "c7c9d47b-4ca3-455f-a309-5a84c3d72a77",
   "metadata": {},
   "outputs": [],
   "source": [
    "# Импорт библиотек\n",
    "import numpy as np\n",
    "import matplotlib.pyplot as plt\n",
    "\n",
    "# Набор данных для эксперимента\n",
    "x = np.arange(0.0, 5, 0.01)\n",
    "y = np.cos(x*np.pi)\n",
    "\n",
    "# График с частичной заливкой\n",
    "plt.plot(x, y, c = 'r')\n",
    "plt.grid()\n",
    "plt.fill_between(x, y, 0.5, where = y > 0.5)\n",
    "\n",
    "plt.show() # Отображение графиков функций"
   ]
  },
  {
   "cell_type": "markdown",
   "id": "ca07804d-e685-4eac-9ccd-b9c2028d343f",
   "metadata": {},
   "source": [
    "<div style=\"text-indent:30px; text-align:justify\">Вариант двухцветной заливки:</div>\n",
    "<div style=\"text-indent:60px; text-align:justify\"><strong>plt.fill_between(x, y, where=y>=0, color='green', alpha=1)</strong></div>\n",
    "<div style=\"text-indent:60px; text-align:justify\"><strong>plt.fill_between(x, y, where=y<=0, color='r', alpha=0.05)</strong></div>"
   ]
  },
  {
   "cell_type": "code",
   "execution_count": null,
   "id": "449461cf-6b51-46d9-adc6-e44065c21874",
   "metadata": {},
   "outputs": [],
   "source": [
    "# Импорт библиотек\n",
    "import numpy as np\n",
    "import matplotlib.pyplot as plt\n",
    "\n",
    "# Набор данных для эксперимента\n",
    "x = np.arange(0.0, 5, 0.01)\n",
    "y = np.cos(x*np.pi)\n",
    "\n",
    "# График с частичной заливкой\n",
    "plt.plot(x, y, c = 'r')\n",
    "plt.grid()\n",
    "plt.fill_between(x, y, where=y>=0, color='green', alpha=1)\n",
    "plt.fill_between(x, y, where=y<=0, color='r', alpha=0.05)\n",
    "#plt.fill_between(x, y, where=y<=0, color=\"#FF99CC\", alpha=1)\n",
    "\n",
    "plt.show() # Отображение графиков функций"
   ]
  },
  {
   "cell_type": "markdown",
   "id": "55571859-dce4-4f8f-85ad-7aa92875d09e",
   "metadata": {},
   "source": [
    "<div style=\"text-indent:30px; text-align:justify\">Параметр  <strong>alpha</strong>  позволяет задавать прозрачность заливки (от 0 до 1).</div>\n",
    "<div style=\"text-indent:30px; text-align:justify; margin-top:20px\">А вот пример программы построения графика двух функций с закрашиванием пересекающихся областей:</div>"
   ]
  },
  {
   "cell_type": "code",
   "execution_count": null,
   "id": "48662f5b-74fd-4862-992d-1b455e07dfc2",
   "metadata": {},
   "outputs": [],
   "source": [
    "# Импорт библиотек\n",
    "import numpy as np\n",
    "import matplotlib.pyplot as plt\n",
    "\n",
    "# Набор данных\n",
    "x = np.arange(0.0, 5, 0.01)\n",
    "y1 = np.cos(x*np.pi)\n",
    "y2 = np.sin(x*np.pi)\n",
    "\n",
    "# Графики с частичной заливкой\n",
    "plt.plot(x, y1, c = 'r')\n",
    "plt.fill_between(x, y1, where = y1>=0, color='violet', alpha=1)\n",
    "\n",
    "plt.plot(x, y2, color = 'blue')\n",
    "plt.fill_between(x, y1, y2, where = y2>y1, color='lime', alpha=0.2)\n",
    "plt.fill_between(x, y1, y2, where = y1>y2, color='cyan', alpha=0.2)\n",
    "\n",
    "plt.grid()\n",
    "\n",
    "plt.show() # Отображение графиков функций"
   ]
  },
  {
   "cell_type": "markdown",
   "id": "1fb3538b-13f9-4ce5-98fc-439066c7f4bb",
   "metadata": {},
   "source": [
    "<h2 style=\"text-align:center\">Ступенчатый, стековый, точечный и другие графики</h2>\n",
    "\n",
    "<h3 style=\"text-align:center\">Ступенчатый график</h3>\n",
    "\n",
    "<div style=\"text-indent:30px; text-align:justify\">Ступенчатый график строится с помощью функции <strong>step()</strong>:</div>"
   ]
  },
  {
   "cell_type": "code",
   "execution_count": null,
   "id": "6f708584-0eeb-4e33-af22-0b1532551ac4",
   "metadata": {},
   "outputs": [],
   "source": [
    "# Импорт библиотек\n",
    "import numpy as np\n",
    "import matplotlib.pyplot as plt\n",
    "\n",
    "# Набор данных\n",
    "x = np.arange(0, 7)\n",
    "y = x\n",
    "\n",
    "plt.step(x, y, 'r-D', where='pre')\n",
    "plt.step(x, y+3, 'g--s', where='mid')\n",
    "plt.step(x, y-3, 'b:o', where='post')\n",
    "plt.grid()\n",
    "\n",
    "plt.show() # Отображение графиков функций"
   ]
  },
  {
   "cell_type": "markdown",
   "id": "a7dd5ccc-a2b3-473e-9963-4276ea6f2e4f",
   "metadata": {},
   "source": [
    "<div style=\"text-indent:30px; text-align:justify\">Параметр <strong>where</strong> определяет место, где будет установлен шаг и может принимать значения <strong>'pre'</strong>, <strong>'post'</strong>  или <strong>'mid'</strong> (по умолчанию равен <strong>'pre'</strong>).</div>\n",
    "\n",
    "<h3 style=\"text-align:center\">Стековый график</h3>\n",
    "\n",
    "<div style=\"text-indent:30px; text-align:justify\">Для построения стекового графика используется функция <strong>stackplot()</strong>. Суть его в том, что графики отображаются друг над другом, и каждый следующий является суммой предыдущего и заданного:</div>"
   ]
  },
  {
   "cell_type": "code",
   "execution_count": null,
   "id": "4a92f2a0-d8a1-4189-a452-2587e414bc94",
   "metadata": {},
   "outputs": [],
   "source": [
    "# Импорт библиотек\n",
    "import numpy as np\n",
    "import matplotlib.pyplot as plt\n",
    "\n",
    "# Набор данных для эксперимента\n",
    "x = np.arange(0, 11, 1)\n",
    "y1 = x\n",
    "y2 = x\n",
    "y3 = x\n",
    "y4 = x\n",
    "y5 = x\n",
    "\n",
    "labels = ['y1', 'y2', 'y3', 'y4', 'y5']\n",
    "\n",
    "# Стековый график\n",
    "plt.stackplot(x, y1, y2, y3, y4, y5, labels=labels)\n",
    "plt.legend(loc='upper left')\n",
    "plt.grid()\n",
    "\n",
    "plt.show()"
   ]
  },
  {
   "cell_type": "markdown",
   "id": "76304834-1ce1-45ac-be15-b894d09c44b1",
   "metadata": {},
   "source": [
    "<div style=\"text-indent:30px; text-align:justify\">Верхний край области <strong>y2</strong> определяется как сумма значений из наборов <strong>y1</strong> и <strong>y2</strong>, <strong>y3</strong> – соответственно сумма <strong>y1</strong>, <strong>y2</strong> и <strong>y3</strong>. И так далее.</div>\n",
    "\n",
    "<h3 style=\"text-align:center\">График дискретных отсчетов (<strong>stem-график</strong>)</h3>\n",
    "\n",
    "<div style=\"text-indent:30px; text-align:justify\">Визуально <strong>stem-график</strong> выглядит как набор линий от точки с координатами (<strong>x</strong>, <strong>y</strong>) до базовой линии, в верхней точке которой ставится маркер:</div>"
   ]
  },
  {
   "cell_type": "code",
   "execution_count": null,
   "id": "755199c6-51ce-4765-9b24-ec927e0cd36d",
   "metadata": {},
   "outputs": [],
   "source": [
    "# Импорт библиотек\n",
    "import numpy as np\n",
    "import matplotlib.pyplot as plt\n",
    "\n",
    "# Набор данных\n",
    "x = np.arange(0, 7, 0.2)\n",
    "y = x**2\n",
    "\n",
    "# Stem-график\n",
    "plt.stem(x, y, linefmt=\"g--\", markerfmt=\"r^\", label=\"y1\", basefmt='b:', bottom=10)\n",
    "plt.legend(loc=\"upper center\") # Нарисовать легенду\n",
    "plt.grid()                     # Показать сетку\n",
    "\n",
    "plt.show() # Отображение графиков функций"
   ]
  },
  {
   "cell_type": "markdown",
   "id": "e029e533-064b-4893-854c-29e77b452fa8",
   "metadata": {},
   "source": [
    "<div style=\"text-indent:30px; text-align:justify; margin-top:20px; margin-bottom:10px\">Дополнительный параметр <strong>markerfmt</strong>  функции  <strong>stem()</strong> задает формат маркера:</div>\n",
    "\n",
    "<div style=\"text-align:center\"><img src=\"markerfmt.png\"></div>\n",
    "\n",
    "<div style=\"text-indent:30px; text-align:justify; margin-top:20px; margin-bottom:10px\">Дополнительный параметр <strong>linefmt</strong> функции <strong>stem()</strong> задает стиль вертикальной линии:</div>\n",
    "\n",
    "<div style=\"text-align:center\"><img src=\"linefmt.png\"></div>\n",
    "\n",
    "<div style=\"text-indent:30px; text-align:justify; margin-top:10px\">Дополнительный параметр <strong>basefmt</strong> функции <strong>stem()</strong> задает формат  базовой линии.</div>\n",
    "<div style=\"text-indent:30px; text-align:justify\">Дополнительный параметр <strong>bottom</strong> функции <strong>stem()</strong> задает положение по вертикали базовой линии (значение по умолчанию = 0).</div>"
   ]
  }
 ],
 "metadata": {
  "kernelspec": {
   "display_name": "Python 3 (ipykernel)",
   "language": "python",
   "name": "python3"
  },
  "language_info": {
   "codemirror_mode": {
    "name": "ipython",
    "version": 3
   },
   "file_extension": ".py",
   "mimetype": "text/x-python",
   "name": "python",
   "nbconvert_exporter": "python",
   "pygments_lexer": "ipython3",
   "version": "3.11.9"
  }
 },
 "nbformat": 4,
 "nbformat_minor": 5
}
