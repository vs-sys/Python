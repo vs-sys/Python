{
 "cells": [
  {
   "cell_type": "markdown",
   "id": "5cda9980-3f2a-41b4-a1c8-826351ff46bc",
   "metadata": {},
   "source": [
    "# Вопросы для проверки"
   ]
  },
  {
   "cell_type": "code",
   "execution_count": 2,
   "id": "a0d3287a-5237-49d4-8c1b-87361376136d",
   "metadata": {},
   "outputs": [],
   "source": [
    "# Импорт библиотек\n",
    "import numpy as np\n",
    "import pandas as pd"
   ]
  },
  {
   "cell_type": "code",
   "execution_count": 3,
   "id": "f0a3cafa-7ce1-4fbd-bbb3-22cc64ae4526",
   "metadata": {},
   "outputs": [
    {
     "data": {
      "text/html": [
       "<div>\n",
       "<style scoped>\n",
       "    .dataframe tbody tr th:only-of-type {\n",
       "        vertical-align: middle;\n",
       "    }\n",
       "\n",
       "    .dataframe tbody tr th {\n",
       "        vertical-align: top;\n",
       "    }\n",
       "\n",
       "    .dataframe thead th {\n",
       "        text-align: right;\n",
       "    }\n",
       "</style>\n",
       "<table border=\"1\" class=\"dataframe\">\n",
       "  <thead>\n",
       "    <tr style=\"text-align: right;\">\n",
       "      <th></th>\n",
       "      <th>Имя</th>\n",
       "      <th>Возраст</th>\n",
       "      <th>Вес</th>\n",
       "      <th>Город</th>\n",
       "    </tr>\n",
       "  </thead>\n",
       "  <tbody>\n",
       "    <tr>\n",
       "      <th>0</th>\n",
       "      <td>Егор</td>\n",
       "      <td>25</td>\n",
       "      <td>76</td>\n",
       "      <td>Москва</td>\n",
       "    </tr>\n",
       "    <tr>\n",
       "      <th>1</th>\n",
       "      <td>Анна</td>\n",
       "      <td>30</td>\n",
       "      <td>84</td>\n",
       "      <td>Самара</td>\n",
       "    </tr>\n",
       "    <tr>\n",
       "      <th>2</th>\n",
       "      <td>Никита</td>\n",
       "      <td>28</td>\n",
       "      <td>66</td>\n",
       "      <td>Ростов</td>\n",
       "    </tr>\n",
       "    <tr>\n",
       "      <th>3</th>\n",
       "      <td>Анна</td>\n",
       "      <td>35</td>\n",
       "      <td>98</td>\n",
       "      <td>Нижний Новгород</td>\n",
       "    </tr>\n",
       "    <tr>\n",
       "      <th>4</th>\n",
       "      <td>Марина</td>\n",
       "      <td>19</td>\n",
       "      <td>68</td>\n",
       "      <td>Самара</td>\n",
       "    </tr>\n",
       "  </tbody>\n",
       "</table>\n",
       "</div>"
      ],
      "text/plain": [
       "      Имя  Возраст  Вес            Город\n",
       "0    Егор       25   76           Москва\n",
       "1    Анна       30   84           Самара\n",
       "2  Никита       28   66           Ростов\n",
       "3    Анна       35   98  Нижний Новгород\n",
       "4  Марина       19   68           Самара"
      ]
     },
     "execution_count": 3,
     "metadata": {},
     "output_type": "execute_result"
    }
   ],
   "source": [
    "#Создание дф\n",
    "data = {'Имя': ['Егор', 'Анна', 'Никита', 'Анна', 'Марина', 'Петр'],\n",
    "        'Возраст': [25, 30, 28, 35, 19, 36],\n",
    "        'Вес': [76, 84, 66, 98, 68, 112],\n",
    "        'Город': ['Москва', 'Самара', 'Ростов', 'Нижний Новгород', 'Самара', 'Москва']}\n",
    "\n",
    "df = pd.DataFrame(data)\n",
    "df.head()"
   ]
  },
  {
   "cell_type": "markdown",
   "id": "34f2593d-999f-43d2-b734-efef33fc713e",
   "metadata": {
    "jp-MarkdownHeadingCollapsed": true
   },
   "source": [
    "### Как получить информацию о размерности (количество строк и столбцов)?"
   ]
  },
  {
   "cell_type": "code",
   "execution_count": 5,
   "id": "0b25e9e9-0983-482a-b647-e3ced9a0e57b",
   "metadata": {},
   "outputs": [
    {
     "data": {
      "text/plain": [
       "(6, 4)"
      ]
     },
     "execution_count": 5,
     "metadata": {},
     "output_type": "execute_result"
    }
   ],
   "source": [
    "df.shape"
   ]
  },
  {
   "cell_type": "markdown",
   "id": "fc7d00f6-52b6-4d54-afaf-5146480884cb",
   "metadata": {
    "jp-MarkdownHeadingCollapsed": true
   },
   "source": [
    "### Как вывести значения второго столбца?"
   ]
  },
  {
   "cell_type": "code",
   "execution_count": 7,
   "id": "c9fc01ca-fcb2-40c9-84e9-7454dbc8de38",
   "metadata": {},
   "outputs": [
    {
     "data": {
      "text/plain": [
       "0    25\n",
       "1    30\n",
       "2    28\n",
       "3    35\n",
       "4    19\n",
       "5    36\n",
       "Name: Возраст, dtype: int64"
      ]
     },
     "execution_count": 7,
     "metadata": {},
     "output_type": "execute_result"
    }
   ],
   "source": [
    "df[\"Возраст\"]"
   ]
  },
  {
   "cell_type": "markdown",
   "id": "f49ed307-da97-4501-84c8-d3870d5db970",
   "metadata": {
    "jp-MarkdownHeadingCollapsed": true
   },
   "source": [
    "### Как получить названия столбцов?"
   ]
  },
  {
   "cell_type": "code",
   "execution_count": 9,
   "id": "c4e42e44-e36b-42b8-96ad-55abe1f174cc",
   "metadata": {},
   "outputs": [
    {
     "data": {
      "text/plain": [
       "Index(['Имя', 'Возраст', 'Вес', 'Город'], dtype='object')"
      ]
     },
     "execution_count": 9,
     "metadata": {},
     "output_type": "execute_result"
    }
   ],
   "source": [
    "df.columns"
   ]
  },
  {
   "cell_type": "markdown",
   "id": "61baa2df-e422-42c4-8616-dbbe8350961a",
   "metadata": {
    "jp-MarkdownHeadingCollapsed": true
   },
   "source": [
    "### Как вычислить средний возраст?"
   ]
  },
  {
   "cell_type": "code",
   "execution_count": 11,
   "id": "e5d99989-3809-4b07-abf9-534027343b44",
   "metadata": {},
   "outputs": [
    {
     "data": {
      "text/plain": [
       "28.833333333333332"
      ]
     },
     "execution_count": 11,
     "metadata": {},
     "output_type": "execute_result"
    }
   ],
   "source": [
    "df[\"Возраст\"].mean()"
   ]
  },
  {
   "cell_type": "markdown",
   "id": "46346cbd-842a-4f87-9937-eaa1d39de527",
   "metadata": {
    "jp-MarkdownHeadingCollapsed": true
   },
   "source": [
    "### Как узнать максимальный возраст?"
   ]
  },
  {
   "cell_type": "code",
   "execution_count": 13,
   "id": "4bb4efa8-024d-4de1-9034-ef0fd7a3accb",
   "metadata": {},
   "outputs": [
    {
     "data": {
      "text/plain": [
       "36"
      ]
     },
     "execution_count": 13,
     "metadata": {},
     "output_type": "execute_result"
    }
   ],
   "source": [
    "df[\"Возраст\"].max()"
   ]
  },
  {
   "cell_type": "markdown",
   "id": "c8d0d89e-71dc-4ede-89f5-316d65a33e32",
   "metadata": {
    "jp-MarkdownHeadingCollapsed": true
   },
   "source": [
    "### Как узнать минимальный возраст?"
   ]
  },
  {
   "cell_type": "code",
   "execution_count": 15,
   "id": "98459c2d-63d6-43d0-8d2d-44b8e1ffbc0d",
   "metadata": {},
   "outputs": [
    {
     "data": {
      "text/plain": [
       "19"
      ]
     },
     "execution_count": 15,
     "metadata": {},
     "output_type": "execute_result"
    }
   ],
   "source": [
    "df[\"Возраст\"].min()"
   ]
  },
  {
   "cell_type": "markdown",
   "id": "95120145-ffaf-42a5-b979-81301a60fb66",
   "metadata": {
    "jp-MarkdownHeadingCollapsed": true
   },
   "source": [
    "### Как получить общую информацию по датафрейму и всем признакам?"
   ]
  },
  {
   "cell_type": "code",
   "execution_count": 17,
   "id": "ab5bbb7f-98af-4b82-b5e8-46db89664d12",
   "metadata": {},
   "outputs": [
    {
     "name": "stdout",
     "output_type": "stream",
     "text": [
      "<class 'pandas.core.frame.DataFrame'>\n",
      "RangeIndex: 6 entries, 0 to 5\n",
      "Data columns (total 4 columns):\n",
      " #   Column   Non-Null Count  Dtype \n",
      "---  ------   --------------  ----- \n",
      " 0   Имя      6 non-null      object\n",
      " 1   Возраст  6 non-null      int64 \n",
      " 2   Вес      6 non-null      int64 \n",
      " 3   Город    6 non-null      object\n",
      "dtypes: int64(2), object(2)\n",
      "memory usage: 324.0+ bytes\n"
     ]
    }
   ],
   "source": [
    "df.info()"
   ]
  },
  {
   "cell_type": "markdown",
   "id": "aae16865-6b17-4d95-9c2a-9d64f8efbcd9",
   "metadata": {
    "jp-MarkdownHeadingCollapsed": true
   },
   "source": [
    "### Как определить количество людей старше 28 лет?"
   ]
  },
  {
   "cell_type": "code",
   "execution_count": 19,
   "id": "ec10876a-ef2b-43a1-8a70-0b80d91fe5f5",
   "metadata": {},
   "outputs": [
    {
     "data": {
      "text/plain": [
       "3"
      ]
     },
     "execution_count": 19,
     "metadata": {},
     "output_type": "execute_result"
    }
   ],
   "source": [
    "df[df[\"Возраст\"] > 28][\"Возраст\"].count()"
   ]
  },
  {
   "cell_type": "markdown",
   "id": "7c5aeb04-2e16-4b73-bb75-141801f1b7d2",
   "metadata": {
    "jp-MarkdownHeadingCollapsed": true
   },
   "source": [
    "### Как вывести 3 строки со второй по четвертую?"
   ]
  },
  {
   "cell_type": "code",
   "execution_count": 21,
   "id": "ec2997eb-7ef0-4e29-aedf-a2b40f20ce7a",
   "metadata": {},
   "outputs": [
    {
     "data": {
      "text/html": [
       "<div>\n",
       "<style scoped>\n",
       "    .dataframe tbody tr th:only-of-type {\n",
       "        vertical-align: middle;\n",
       "    }\n",
       "\n",
       "    .dataframe tbody tr th {\n",
       "        vertical-align: top;\n",
       "    }\n",
       "\n",
       "    .dataframe thead th {\n",
       "        text-align: right;\n",
       "    }\n",
       "</style>\n",
       "<table border=\"1\" class=\"dataframe\">\n",
       "  <thead>\n",
       "    <tr style=\"text-align: right;\">\n",
       "      <th></th>\n",
       "      <th>Имя</th>\n",
       "      <th>Возраст</th>\n",
       "      <th>Вес</th>\n",
       "      <th>Город</th>\n",
       "    </tr>\n",
       "  </thead>\n",
       "  <tbody>\n",
       "    <tr>\n",
       "      <th>1</th>\n",
       "      <td>Анна</td>\n",
       "      <td>30</td>\n",
       "      <td>84</td>\n",
       "      <td>Самара</td>\n",
       "    </tr>\n",
       "    <tr>\n",
       "      <th>2</th>\n",
       "      <td>Никита</td>\n",
       "      <td>28</td>\n",
       "      <td>66</td>\n",
       "      <td>Ростов</td>\n",
       "    </tr>\n",
       "    <tr>\n",
       "      <th>3</th>\n",
       "      <td>Анна</td>\n",
       "      <td>35</td>\n",
       "      <td>98</td>\n",
       "      <td>Нижний Новгород</td>\n",
       "    </tr>\n",
       "  </tbody>\n",
       "</table>\n",
       "</div>"
      ],
      "text/plain": [
       "      Имя  Возраст  Вес            Город\n",
       "1    Анна       30   84           Самара\n",
       "2  Никита       28   66           Ростов\n",
       "3    Анна       35   98  Нижний Новгород"
      ]
     },
     "execution_count": 21,
     "metadata": {},
     "output_type": "execute_result"
    }
   ],
   "source": [
    "df.loc[1:3]"
   ]
  },
  {
   "cell_type": "markdown",
   "id": "1df3939c-74a5-4eb8-9e3a-f101fca1656d",
   "metadata": {
    "jp-MarkdownHeadingCollapsed": true
   },
   "source": [
    "### Как посчитать количество разных имен?"
   ]
  },
  {
   "cell_type": "code",
   "execution_count": 23,
   "id": "0eece0de-688d-4b34-ade5-5a16d14e51e9",
   "metadata": {},
   "outputs": [
    {
     "data": {
      "text/plain": [
       "5"
      ]
     },
     "execution_count": 23,
     "metadata": {},
     "output_type": "execute_result"
    }
   ],
   "source": [
    "df[\"Имя\"].value_counts().count()"
   ]
  },
  {
   "cell_type": "markdown",
   "id": "5ff27fd7-dc0b-4ac5-9fef-c5724b2a115c",
   "metadata": {
    "jp-MarkdownHeadingCollapsed": true
   },
   "source": [
    "### Как подсчитать количество отдельных городов В ПРОЦЕНТАХ?"
   ]
  },
  {
   "cell_type": "code",
   "execution_count": 25,
   "id": "5aec539a-82fa-46c4-a690-d6648bf71e1e",
   "metadata": {},
   "outputs": [
    {
     "data": {
      "text/plain": [
       "Город\n",
       "Москва             33.333333\n",
       "Самара             33.333333\n",
       "Ростов             16.666667\n",
       "Нижний Новгород    16.666667\n",
       "Name: proportion, dtype: float64"
      ]
     },
     "execution_count": 25,
     "metadata": {},
     "output_type": "execute_result"
    }
   ],
   "source": [
    "df[\"Город\"].value_counts(normalize=True)*100"
   ]
  },
  {
   "cell_type": "markdown",
   "id": "55f61dd9-feee-46a2-ad4c-3288ed57beb0",
   "metadata": {},
   "source": [
    "### Что такое ящик с усами?"
   ]
  },
  {
   "cell_type": "code",
   "execution_count": 48,
   "id": "5813c379-9de0-4cc3-915a-7857620bbae9",
   "metadata": {},
   "outputs": [
    {
     "data": {
      "text/plain": [
       "<seaborn.axisgrid.FacetGrid at 0x19de252c920>"
      ]
     },
     "execution_count": 48,
     "metadata": {},
     "output_type": "execute_result"
    },
    {
     "data": {
      "image/png": "[encoded data removed]",
      "text/plain": [
       "<Figure size 511.111x500 with 1 Axes>"
      ]
     },
     "metadata": {},
     "output_type": "display_data"
    }
   ],
   "source": [
    "import seaborn as sns\n",
    "sns.catplot(data=df, x=\"Город\", y=\"Возраст\", kind=\"box\")"
   ]
  },
  {
   "cell_type": "markdown",
   "id": "3a75d1aa-8ce5-4568-96c0-99231e8282d9",
   "metadata": {
    "jp-MarkdownHeadingCollapsed": true
   },
   "source": [
    "### Что такое **реляционный** график? Пример."
   ]
  },
  {
   "cell_type": "code",
   "execution_count": 46,
   "id": "b8eeb8d3-867e-4d6d-8ec5-8d8c7fcc2465",
   "metadata": {},
   "outputs": [
    {
     "data": {
      "text/plain": [
       "<Axes: xlabel='Возраст', ylabel='Вес'>"
      ]
     },
     "execution_count": 46,
     "metadata": {},
     "output_type": "execute_result"
    },
    {
     "data": {
      "image/png": "[encoded data removed]",
      "text/plain": [
       "<Figure size 640x480 with 1 Axes>"
      ]
     },
     "metadata": {},
     "output_type": "display_data"
    }
   ],
   "source": [
    "sns.scatterplot(data=df, \n",
    "                x=\"Возраст\",\n",
    "                y=\"Вес\",\n",
    "                hue=\"Город\")"
   ]
  },
  {
   "cell_type": "markdown",
   "id": "660a9eb9-e07b-420b-b043-300ebf51c476",
   "metadata": {},
   "source": [
    "### Что такое **категориальный** график? Пример."
   ]
  },
  {
   "cell_type": "code",
   "execution_count": 59,
   "id": "cfb044fc-7d0c-4a61-8bad-154bfca48092",
   "metadata": {},
   "outputs": [
    {
     "data": {
      "text/plain": [
       "<seaborn.axisgrid.FacetGrid at 0x19de3978560>"
      ]
     },
     "execution_count": 59,
     "metadata": {},
     "output_type": "execute_result"
    },
    {
     "data": {
      "image/png": "[encoded data removed]",
      "text/plain": [
       "<Figure size 511.111x500 with 1 Axes>"
      ]
     },
     "metadata": {},
     "output_type": "display_data"
    }
   ],
   "source": [
    "sns.catplot(data=df, \n",
    "                x=\"Город\",\n",
    "                y=\"Возраст\",\n",
    "                kind=\"swarm\")"
   ]
  },
  {
   "cell_type": "markdown",
   "id": "a131401e-a498-4d1b-a8f6-37481da14ccc",
   "metadata": {},
   "source": [
    "### Какие два типа данных используются в библиотеке **pandas**?"
   ]
  },
  {
   "cell_type": "markdown",
   "id": "88f3a812-f14b-4cdd-bbe9-c5bbce651ce1",
   "metadata": {},
   "source": [
    "Series и DataFrame"
   ]
  },
  {
   "cell_type": "code",
   "execution_count": null,
   "id": "7a72cf0f-323e-471d-a795-991b45acff48",
   "metadata": {},
   "outputs": [],
   "source": []
  },
  {
   "cell_type": "code",
   "execution_count": null,
   "id": "ccf3a80d-4eeb-4b0c-bad6-497c307b4e1b",
   "metadata": {},
   "outputs": [],
   "source": []
  }
 ],
 "metadata": {
  "kernelspec": {
   "display_name": "Python 3 (ipykernel)",
   "language": "python",
   "name": "python3"
  },
  "language_info": {
   "codemirror_mode": {
    "name": "ipython",
    "version": 3
   },
   "file_extension": ".py",
   "mimetype": "text/x-python",
   "name": "python",
   "nbconvert_exporter": "python",
   "pygments_lexer": "ipython3",
   "version": "3.12.4"
  }
 },
 "nbformat": 4,
 "nbformat_minor": 5
}
