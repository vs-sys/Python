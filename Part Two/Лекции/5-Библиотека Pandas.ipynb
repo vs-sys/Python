{
 "cells": [
  {
   "attachments": {},
   "cell_type": "markdown",
   "id": "476b8f31-0d29-4a17-9772-5c7894483e45",
   "metadata": {},
   "source": [
    "## Объектно-ориентированное программирование и информационная безопасность\n",
    "\n",
    "*Валерий Семенов, Самарский университет*  \n",
    "<h1 style=\"text-align:center\">Библиотека <strong>pandas</strong></h1>\n",
    "\n",
    "<div style=\"text-align:center\"><img src=\"pandas.gif\"></div>\n",
    "\n",
    "<div style=\"text-indent:30px; text-align:justify\"><strong>Pandas</strong> – это программная библиотека, написанная на Python. Она активно применяется в <a href=\"https://education.yandex.ru/journal/chem-zanimaetsya-spetsialist-po-data-science-i-kak-nachat-rabotat-v-etoy-oblasti\"><strong>Data Science</strong></a>, машинном обучении, научных вычислениях и многих других областях, связанных с активным использованием данных.</div>\n",
    "<div style=\"text-indent:30px; text-align:justify\">Каковы преимущества? Хорошие показатели скорости, интуитивно понятный интерфейс, интеграция с другими библиотеками для расширения функционала – все это делает <strong>Pandas</strong> одной из лучших программ для работы с данными.</div>\n",
    "<div style=\"text-indent:30px; text-align:justify\">Название библиотеки образовано сочетанием двух слов – <strong>PAN</strong>el <strong>DA</strong>ta. Она используется для анализа структурированных данных, размещенных в таблицах (панелях). Рandas упрощает анализ информации, тестирование приложений и другие действия, предоставляя разработчику готовые алгоритмы.</div>\n",
    "<div style=\"text-indent:30px; text-align:justify\">В связке с библиотеками <strong>Matplotlib</strong> и <strong>Seaborn</strong> появляется возможность удобного визуального анализа табличных данных.</div>"
   ]
  },
  {
   "cell_type": "code",
   "execution_count": 2,
   "id": "a5214434-e3fe-4a0e-a711-9d31e7b4a82b",
   "metadata": {},
   "outputs": [],
   "source": [
    "import numpy as np\n",
    "import pandas as pd"
   ]
  },
  {
   "cell_type": "markdown",
   "id": "41b31f5c-95b4-4c02-8d22-b7f81fa49ced",
   "metadata": {},
   "source": [
    "<div style=\"text-indent:30px; text-align:justify\">Данные, с которыми работают дата саентисты и аналитики, обычно хранятся в виде табличек — например, в форматах <strong>.csv</strong>, <strong>.tsv</strong> или <strong>.xlsx</strong>. Библиотека отлично подходит для считывания данных из таких файлов.</div>\n",
    "<div style=\"text-indent:30px; text-align:justify\">Основными структурами данных в Pandas являются классы <strong>Series</strong> и <strong>DataFrame</strong>.</div>"
   ]
  },
  {
   "cell_type": "markdown",
   "id": "f59cc02a-b660-47dc-a1e4-3763584d809d",
   "metadata": {},
   "source": [
    "<h2 style=\"text-align:center\">Тип данных <strong>Series</strong></h2>\n",
    "\n",
    "<div style=\"text-indent:30px; text-align:justify\"><strong>Series</strong> – Одномерный набор данных. Это объект, по виду напоминающий одномерный массив. В него могут входить любые типы данных. Как правило, представляет собой столбец таблицы с последовательностями тех или иных значений, каждое из которых наделено индексом – номером строки.</div>\n",
    "<div style=\"text-indent:30px; text-align:justify\">Часто при работе с большими наборами данных, особенно теми, которые были получены из внешних источников, могут возникать проблемы с пропущенными или недоступными данными. Такие данные обычно представлены значением <strong>NaN</strong> (<i>Not a Number</i>).</div>\n",
    "<div style=\"text-indent:30px; text-align:justify\">Отсутствующий данные записываются как <strong>np.nan</strong>. Например, в какой-то день термометр сломался или метеоролог был пьян. При вычислении среднего и других операций соответствующие функции не учитывают отсутствующие значения.</div>"
   ]
  },
  {
   "cell_type": "code",
   "execution_count": 5,
   "id": "cb70ef32-96ab-4aea-98d6-2529c5cb02be",
   "metadata": {},
   "outputs": [
    {
     "data": {
      "text/plain": [
       "0    1.0\n",
       "1    3.0\n",
       "2    5.0\n",
       "3    NaN\n",
       "4    6.0\n",
       "5    8.0\n",
       "dtype: float64"
      ]
     },
     "execution_count": 5,
     "metadata": {},
     "output_type": "execute_result"
    }
   ],
   "source": [
    "t = [1, 3, 5, np.nan, 6, 8]  # Список\n",
    "s = pd.Series(t)             # Объект Series\n",
    "s"
   ]
  },
  {
   "cell_type": "markdown",
   "id": "7398cbde-2998-4509-9db0-c711449dae3e",
   "metadata": {},
   "source": [
    "<div style=\"text-indent:30px; text-align:justify\"><strong>Полезно знать:</strong> Для поиска пропусков есть специальный метод <strong>.isna()</strong>. Он эквивалентен конструкции <strong>s != s</strong>.</div>"
   ]
  },
  {
   "cell_type": "code",
   "execution_count": 7,
   "id": "a9877bfa-30ef-4089-9868-8a832a2514de",
   "metadata": {},
   "outputs": [
    {
     "data": {
      "text/plain": [
       "0    False\n",
       "1    False\n",
       "2    False\n",
       "3     True\n",
       "4    False\n",
       "5    False\n",
       "dtype: bool"
      ]
     },
     "execution_count": 7,
     "metadata": {},
     "output_type": "execute_result"
    }
   ],
   "source": [
    "s.isna()"
   ]
  },
  {
   "cell_type": "markdown",
   "id": "b7b6126e-8b7b-44ba-94cb-263abc61eb30",
   "metadata": {},
   "source": [
    "<div style=\"text-indent:30px; text-align:justify\">Метод <strong>describe()</strong> обеспечивает краткий обзор числовых данных (количество записей, среднее, стандартное отклонение, минимум, нижний квартиль, медиана, верхний квартиль, максимум, а так же тип данных).</div>"
   ]
  },
  {
   "cell_type": "code",
   "execution_count": 9,
   "id": "1428f99e-b183-41bb-b25b-34977d0faf27",
   "metadata": {},
   "outputs": [
    {
     "data": {
      "text/plain": [
       "count    5.000000\n",
       "mean     4.600000\n",
       "std      2.701851\n",
       "min      1.000000\n",
       "25%      3.000000\n",
       "50%      5.000000\n",
       "75%      6.000000\n",
       "max      8.000000\n",
       "dtype: float64"
      ]
     },
     "execution_count": 9,
     "metadata": {},
     "output_type": "execute_result"
    }
   ],
   "source": [
    "s.describe()"
   ]
  },
  {
   "cell_type": "markdown",
   "id": "305d166a-9fca-4b6c-8e7a-673ff4fb44cf",
   "metadata": {},
   "source": [
    "<div style=\"text-indent:30px; text-align:justify\">В данном примере используется обычная индексация.</div>"
   ]
  },
  {
   "cell_type": "code",
   "execution_count": 11,
   "id": "2e504531-b238-4f11-b15b-45cdc39d4345",
   "metadata": {},
   "outputs": [
    {
     "data": {
      "text/plain": [
       "5.0"
      ]
     },
     "execution_count": 11,
     "metadata": {},
     "output_type": "execute_result"
    }
   ],
   "source": [
    "s[2]"
   ]
  },
  {
   "cell_type": "code",
   "execution_count": 12,
   "id": "d3c9dc06-b4d8-4e7f-aa97-881b42591c98",
   "metadata": {},
   "outputs": [
    {
     "data": {
      "text/plain": [
       "0    1.0\n",
       "1    3.0\n",
       "2    7.0\n",
       "3    NaN\n",
       "4    6.0\n",
       "5    8.0\n",
       "dtype: float64"
      ]
     },
     "execution_count": 12,
     "metadata": {},
     "output_type": "execute_result"
    }
   ],
   "source": [
    "s[2] = 7\n",
    "s"
   ]
  },
  {
   "cell_type": "code",
   "execution_count": 13,
   "id": "1a3d5edd-0db3-4140-8251-26e5107eccb7",
   "metadata": {},
   "outputs": [
    {
     "data": {
      "text/plain": [
       "2    7.0\n",
       "3    NaN\n",
       "4    6.0\n",
       "dtype: float64"
      ]
     },
     "execution_count": 13,
     "metadata": {},
     "output_type": "execute_result"
    }
   ],
   "source": [
    "s[2:5]"
   ]
  },
  {
   "cell_type": "markdown",
   "id": "af812c99-78f9-4e38-9817-aaa0339cd905",
   "metadata": {},
   "source": [
    "<div style=\"text-indent:30px; text-align:justify\">При создании набора данных <strong>s</strong> мы не указали, что будет играть роль индекса. По умолчанию это последовательность неотрицательных целых чисел 0, 1, 2, ...</div>"
   ]
  },
  {
   "cell_type": "code",
   "execution_count": 15,
   "id": "81df95f5-5536-407c-92dc-9bd35a473fb5",
   "metadata": {},
   "outputs": [
    {
     "data": {
      "text/plain": [
       "RangeIndex(start=0, stop=6, step=1)"
      ]
     },
     "execution_count": 15,
     "metadata": {},
     "output_type": "execute_result"
    }
   ],
   "source": [
    "s.index"
   ]
  },
  {
   "cell_type": "markdown",
   "id": "af49d696-4829-4a33-a718-ff1d46984eeb",
   "metadata": {},
   "source": [
    "<div style=\"text-indent:30px; text-align:justify\">Но можно создавать наборы данных с индексом, заданным списком.</div>"
   ]
  },
  {
   "cell_type": "code",
   "execution_count": 17,
   "id": "a4d22c2e-68c5-49fc-9100-26435fa78930",
   "metadata": {},
   "outputs": [
    {
     "data": {
      "text/plain": [
       "['a', 'b', 'c', 'd', 'e', 'f']"
      ]
     },
     "execution_count": 17,
     "metadata": {},
     "output_type": "execute_result"
    }
   ],
   "source": [
    "i = list('abcdef')  # Список для индексов\n",
    "i"
   ]
  },
  {
   "cell_type": "code",
   "execution_count": 18,
   "id": "78e80f8a-ac43-407c-bb31-c0c8e855aa5d",
   "metadata": {},
   "outputs": [
    {
     "data": {
      "text/plain": [
       "a    1.0\n",
       "b    3.0\n",
       "c    5.0\n",
       "d    NaN\n",
       "e    6.0\n",
       "f    8.0\n",
       "dtype: float64"
      ]
     },
     "execution_count": 18,
     "metadata": {},
     "output_type": "execute_result"
    }
   ],
   "source": [
    "s = pd.Series(t, index=i)   # Объект Series с индексами из списка t\n",
    "s"
   ]
  },
  {
   "cell_type": "code",
   "execution_count": 19,
   "id": "d7e7ca3a-24c0-4bfe-8748-77f7de629e6c",
   "metadata": {},
   "outputs": [
    {
     "data": {
      "text/plain": [
       "5.0"
      ]
     },
     "execution_count": 19,
     "metadata": {},
     "output_type": "execute_result"
    }
   ],
   "source": [
    "s['c']"
   ]
  },
  {
   "cell_type": "markdown",
   "id": "6d9d7dde-83fd-449f-be32-fb0b4cf4a63d",
   "metadata": {},
   "source": [
    "<div style=\"text-indent:30px; text-align:justify\">Если индекс — строка, то вместо <strong>s['c']</strong> можно писать <strong>s.c</strong>:</div>"
   ]
  },
  {
   "cell_type": "code",
   "execution_count": 21,
   "id": "80e6cd75-a92e-4698-9a76-30fb3a344a00",
   "metadata": {},
   "outputs": [
    {
     "data": {
      "text/plain": [
       "5.0"
      ]
     },
     "execution_count": 21,
     "metadata": {},
     "output_type": "execute_result"
    }
   ],
   "source": [
    "s.c"
   ]
  },
  {
   "cell_type": "markdown",
   "id": "8a1dd9c0-4750-4e79-b1f4-f06063ea9a00",
   "metadata": {},
   "source": [
    "<div style=\"text-indent:30px; text-align:justify\">Набор данных можно создать из словаря:</div>"
   ]
  },
  {
   "cell_type": "code",
   "execution_count": 23,
   "id": "81b8f13c-1a7c-428f-ada0-400f7137348a",
   "metadata": {},
   "outputs": [
    {
     "data": {
      "text/plain": [
       "a    1\n",
       "b    2\n",
       "c    0\n",
       "dtype: int64"
      ]
     },
     "execution_count": 23,
     "metadata": {},
     "output_type": "execute_result"
    }
   ],
   "source": [
    "s = pd.Series({'a':1, 'b':2, 'c':0})\n",
    "s"
   ]
  },
  {
   "cell_type": "markdown",
   "id": "d2c47d58-22db-440b-81dd-679aafa17fec",
   "metadata": {},
   "source": [
    "<div style=\"text-indent:30px; text-align:justify\">Можно отсортировать набор данных:</div>"
   ]
  },
  {
   "cell_type": "code",
   "execution_count": 25,
   "id": "5c101e88-adf2-4e80-9d8f-cd6dfd462537",
   "metadata": {},
   "outputs": [
    {
     "data": {
      "text/plain": [
       "c    0\n",
       "a    1\n",
       "b    2\n",
       "dtype: int64"
      ]
     },
     "execution_count": 25,
     "metadata": {},
     "output_type": "execute_result"
    }
   ],
   "source": [
    "s.sort_values()"
   ]
  },
  {
   "cell_type": "code",
   "execution_count": 26,
   "id": "ce6f31d9-40f8-42ce-aa8c-36ce35a695c2",
   "metadata": {},
   "outputs": [
    {
     "data": {
      "text/plain": [
       "a    1\n",
       "b    2\n",
       "c    0\n",
       "dtype: int64"
      ]
     },
     "execution_count": 26,
     "metadata": {},
     "output_type": "execute_result"
    }
   ],
   "source": [
    "s.sort_index()"
   ]
  },
  {
   "cell_type": "markdown",
   "id": "76e3527e-7d9d-4a3b-b426-1b8cc201229f",
   "metadata": {},
   "source": [
    "<div style=\"text-indent:30px; text-align:justify\">Роль индекса может играть, скажем, последовательность дат или времен измерения и т.д.:</div>"
   ]
  },
  {
   "cell_type": "code",
   "execution_count": 28,
   "id": "a93f0b99-5027-4e6b-ae84-3e6c864c5112",
   "metadata": {},
   "outputs": [
    {
     "data": {
      "text/plain": [
       "DatetimeIndex(['2024-01-01', '2024-01-02', '2024-01-03', '2024-01-04',\n",
       "               '2024-01-05', '2024-01-06', '2024-01-07', '2024-01-08',\n",
       "               '2024-01-09', '2024-01-10'],\n",
       "              dtype='datetime64[ns]', freq='D')"
      ]
     },
     "execution_count": 28,
     "metadata": {},
     "output_type": "execute_result"
    }
   ],
   "source": [
    "d = pd.date_range('20240101', periods=10)\n",
    "d"
   ]
  },
  {
   "cell_type": "code",
   "execution_count": 29,
   "id": "33449332-7088-4685-ba5c-bdf64dd78195",
   "metadata": {},
   "outputs": [
    {
     "data": {
      "text/plain": [
       "2024-01-01    0.106628\n",
       "2024-01-02    0.419115\n",
       "2024-01-03   -0.450156\n",
       "2024-01-04    1.004891\n",
       "2024-01-05   -0.780152\n",
       "2024-01-06    1.007296\n",
       "2024-01-07   -0.382520\n",
       "2024-01-08   -1.117148\n",
       "2024-01-09    0.392589\n",
       "2024-01-10   -2.427363\n",
       "Freq: D, dtype: float64"
      ]
     },
     "execution_count": 29,
     "metadata": {},
     "output_type": "execute_result"
    }
   ],
   "source": [
    "s = pd.Series(np.random.normal(size=10), index=d)\n",
    "s"
   ]
  },
  {
   "cell_type": "markdown",
   "id": "0d8630c1-abbd-43ba-9d16-7f2cce739373",
   "metadata": {},
   "source": [
    "<div style=\"text-indent:30px; text-align:justify\">Операции сравнения возвращают наборы булевых данных:</div>"
   ]
  },
  {
   "cell_type": "code",
   "execution_count": 31,
   "id": "c22ac00d-c02a-4fea-b62a-2376bae40b10",
   "metadata": {},
   "outputs": [
    {
     "data": {
      "text/plain": [
       "2024-01-01     True\n",
       "2024-01-02     True\n",
       "2024-01-03    False\n",
       "2024-01-04     True\n",
       "2024-01-05    False\n",
       "2024-01-06     True\n",
       "2024-01-07    False\n",
       "2024-01-08    False\n",
       "2024-01-09     True\n",
       "2024-01-10    False\n",
       "Freq: D, dtype: bool"
      ]
     },
     "execution_count": 31,
     "metadata": {},
     "output_type": "execute_result"
    }
   ],
   "source": [
    "s > 0"
   ]
  },
  {
   "cell_type": "markdown",
   "id": "264673ce-bfbf-4694-98ff-08c116f37b20",
   "metadata": {},
   "source": [
    "<div style=\"text-indent:30px; text-align:justify\">Если такой булев набор использовать для индексации, получится поднабор только из тех данных, для которых условие есть <strong>True</strong>.</div>"
   ]
  },
  {
   "cell_type": "code",
   "execution_count": 33,
   "id": "126c5452-934f-4d6e-b106-6a922933295c",
   "metadata": {},
   "outputs": [
    {
     "data": {
      "text/plain": [
       "2024-01-01    0.106628\n",
       "2024-01-02    0.419115\n",
       "2024-01-04    1.004891\n",
       "2024-01-06    1.007296\n",
       "2024-01-09    0.392589\n",
       "dtype: float64"
      ]
     },
     "execution_count": 33,
     "metadata": {},
     "output_type": "execute_result"
    }
   ],
   "source": [
    "s[s > 0]"
   ]
  },
  {
   "cell_type": "markdown",
   "id": "f2f7e73d-fad7-42da-b0a9-5be58b40a9e1",
   "metadata": {},
   "source": [
    "<div style=\"text-indent:30px; text-align:justify\">Более подробно ознакомиться с методами можно <a href=\"https://pandas.pydata.org/pandas-docs/stable/reference/api/pandas.Series.html\"><strong>в официальной документации</strong></a>.</div>"
   ]
  },
  {
   "cell_type": "markdown",
   "id": "c9f794f3-57fe-4465-92ec-130de37a1cda",
   "metadata": {},
   "source": [
    "<h2 style=\"text-align:center\">Тип данных <strong>DataFrame</strong></h2>\n",
    "\n",
    "<div style=\"text-indent:30px; text-align:justify\"><strong>DataFrame</strong> – основной тип информации в Pandas. Это двумерная информационная структура в виде таблицы с разными типами столбцов. Вся дальнейшая работа ведется на основе <strong>DataFrame</strong>.</div>\n",
    "<div style=\"text-indent:30px; text-align:justify\">Объект данных может выглядеть как обычная таблица, как, например, в Excel, и включать любое количество столбцов и строк. Содержимое ячеек может содержать данные разных типов.</div>\n",
    "<div style=\"text-indent:30px; text-align:justify\">В <strong>DataFrame</strong> индексы присваиваются не только столбцам, но и строкам. Такая особенность позволяет сортировать и фильтровать данные, а также ускоряет и упрощает процесс поиска нужных значений.</div>\n",
    "\n",
    "<div style=\"text-align:center\"><img src=\"DataFrame.png\" width=600></div>\n",
    "\n",
    "<div style=\"text-indent:30px; text-align:justify; margin-top: 30px\">Таблицу можно построить, например, из словаря, значениями в котором являются одномерные наборы данных:</div>"
   ]
  },
  {
   "cell_type": "code",
   "execution_count": 36,
   "id": "bdf3132e-08ae-4ea2-9ea5-30262ef5b52b",
   "metadata": {},
   "outputs": [
    {
     "data": {
      "text/html": [
       "<div>\n",
       "<style scoped>\n",
       "    .dataframe tbody tr th:only-of-type {\n",
       "        vertical-align: middle;\n",
       "    }\n",
       "\n",
       "    .dataframe tbody tr th {\n",
       "        vertical-align: top;\n",
       "    }\n",
       "\n",
       "    .dataframe thead th {\n",
       "        text-align: right;\n",
       "    }\n",
       "</style>\n",
       "<table border=\"1\" class=\"dataframe\">\n",
       "  <thead>\n",
       "    <tr style=\"text-align: right;\">\n",
       "      <th></th>\n",
       "      <th>Имя</th>\n",
       "      <th>Возраст</th>\n",
       "      <th>Город</th>\n",
       "    </tr>\n",
       "  </thead>\n",
       "  <tbody>\n",
       "    <tr>\n",
       "      <th>0</th>\n",
       "      <td>Егор</td>\n",
       "      <td>25</td>\n",
       "      <td>Москва</td>\n",
       "    </tr>\n",
       "    <tr>\n",
       "      <th>1</th>\n",
       "      <td>Анна</td>\n",
       "      <td>30</td>\n",
       "      <td>Самара</td>\n",
       "    </tr>\n",
       "    <tr>\n",
       "      <th>2</th>\n",
       "      <td>Никита</td>\n",
       "      <td>28</td>\n",
       "      <td>Ростов</td>\n",
       "    </tr>\n",
       "    <tr>\n",
       "      <th>3</th>\n",
       "      <td>Марина</td>\n",
       "      <td>35</td>\n",
       "      <td>Нижний Новгород</td>\n",
       "    </tr>\n",
       "  </tbody>\n",
       "</table>\n",
       "</div>"
      ],
      "text/plain": [
       "      Имя  Возраст            Город\n",
       "0    Егор       25           Москва\n",
       "1    Анна       30           Самара\n",
       "2  Никита       28           Ростов\n",
       "3  Марина       35  Нижний Новгород"
      ]
     },
     "execution_count": 36,
     "metadata": {},
     "output_type": "execute_result"
    }
   ],
   "source": [
    "# Создаем DataFrame из словаря\n",
    "data = {'Имя': ['Егор', 'Анна', 'Никита', 'Марина'],\n",
    "        'Возраст': [25, 30, 28, 35],\n",
    "        'Город': ['Москва', 'Самара', 'Ростов', 'Нижний Новгород']}\n",
    "\n",
    "df = pd.DataFrame(data)\n",
    "\n",
    "# выводим DataFrame на экран \n",
    "df"
   ]
  },
  {
   "cell_type": "markdown",
   "id": "a7f9e71e-eb8f-44c8-987b-f8f715177d4d",
   "metadata": {},
   "source": [
    "<h3 style=\"text-align:center\">Датасет (dataset)</h3>\n",
    "\n",
    "<div style=\"text-indent:30px; text-align:justify\"><strong><a href=\"https://ru.wikipedia.org/wiki/%D0%9D%D0%B0%D0%B1%D0%BE%D1%80_%D0%B4%D0%B0%D0%BD%D0%BD%D1%8B%D1%85\"><strong>Датасетом</strong> (<i>Dataset</i>)</strong></a> называется обработанная и структурированная информация, представленная в табличном виде. В такой таблице объектами называются строки, а признаками – столбцы. Совокупность этой информации называется размеченными данными, которые являются основой для машинного обучения, анализа данных и т.п. Такой набор данных используют, чтобы строить на его основе гипотезы, делать выводы или обучать нейросети.</div>\n",
    "\n",
    "<div style=\"text-indent:30px; text-align:justify\">Для примера возьмем набор фотографий разных животных. Сам по себе этот набор — просто массив данных, его невозможно использовать для аналитики или обучения нейросети. Чтобы он стал датасетом, в нем должно быть однозначно прописано, какое конкретно животное изображено на фотографии и по каким признакам оно отличается от других животных.</div>\n",
    "\n",
    "<div style=\"text-align:center\"><img src=\"Dataset.png\" width=600></div>\n",
    "\n",
    "<div style=\"text-indent:30px; text-align:justify\">Данные в датасете могут быть разные, например:</div>\n",
    "<div style=\" margin-left:50px\">\n",
    "<li style=\"text-align:justify\">статистика покупок в магазине;</li> \n",
    "<li style=\"text-align:justify\">географическое расположение офисов;</li>\n",
    "<li style=\"text-align:justify\">демографические признаки населения;</li>    \n",
    "<li style=\"text-align:justify\">соответствие звуков аудиотексту;</li>\n",
    "<li style=\"text-align:justify\">заболевания с конкретными симптомами.</li>\n",
    "</div>\n",
    "<div style=\"text-indent:30px; text-align:justify\">Данных в датасете должно быть достаточно много, особенно если для анализа используется несколько признаков. Если нейросети нужно отличать кошек от собак, попугаев, лошадей и рыб, то сотни объектов для датасета не хватит. Понадобятся десятки и сотни тысяч фотографий. Если нужно спрогнозировать, что именно купит конкретный клиент, то понадобятся данные о демографии и покупках десятков тысяч других клиентов. Только так прогноз будет точным.</div>\n",
    "\n",
    "<h3 style=\"text-align:center\">Чтение из файла и первичный анализ</h3>\n",
    "\n",
    "<div style=\"text-indent:30px; text-align:justify\">Рассмотрим основные методы работы, анализируя набор данных по коэффициенту оттока клиентов операторов связи. </div>\n",
    "<div style=\"text-indent:30px; text-align:justify\">Для загрузки датасета из <a href=\"https://ru.wikipedia.org/wiki/CSV\"><strong>.csv</strong></a> файла с данными в pandas используется функция <strong>read_csv()</strong>.\n",
    "\n",
    "<div style=\"text-indent:30px; text-align:justify; margin-top:20px\">Простейший пример:</div>"
   ]
  },
  {
   "cell_type": "code",
   "execution_count": 38,
   "id": "b258fcd6-874d-4ae5-87ac-3b4429bf2e20",
   "metadata": {},
   "outputs": [
    {
     "data": {
      "text/html": [
       "<div>\n",
       "<style scoped>\n",
       "    .dataframe tbody tr th:only-of-type {\n",
       "        vertical-align: middle;\n",
       "    }\n",
       "\n",
       "    .dataframe tbody tr th {\n",
       "        vertical-align: top;\n",
       "    }\n",
       "\n",
       "    .dataframe thead th {\n",
       "        text-align: right;\n",
       "    }\n",
       "</style>\n",
       "<table border=\"1\" class=\"dataframe\">\n",
       "  <thead>\n",
       "    <tr style=\"text-align: right;\">\n",
       "      <th></th>\n",
       "      <th>Имя</th>\n",
       "      <th>Рост</th>\n",
       "      <th>Вес</th>\n",
       "      <th>Цвет волос</th>\n",
       "    </tr>\n",
       "  </thead>\n",
       "  <tbody>\n",
       "    <tr>\n",
       "      <th>0</th>\n",
       "      <td>Вася</td>\n",
       "      <td>156</td>\n",
       "      <td>86</td>\n",
       "      <td>Темный</td>\n",
       "    </tr>\n",
       "    <tr>\n",
       "      <th>1</th>\n",
       "      <td>Петя</td>\n",
       "      <td>176</td>\n",
       "      <td>74</td>\n",
       "      <td>Светлый</td>\n",
       "    </tr>\n",
       "    <tr>\n",
       "      <th>2</th>\n",
       "      <td>Таня</td>\n",
       "      <td>180</td>\n",
       "      <td>88</td>\n",
       "      <td>Рыжий</td>\n",
       "    </tr>\n",
       "  </tbody>\n",
       "</table>\n",
       "</div>"
      ],
      "text/plain": [
       "    Имя  Рост  Вес Цвет волос\n",
       "0  Вася   156   86     Темный\n",
       "1  Петя   176   74    Светлый\n",
       "2  Таня   180   88      Рыжий"
      ]
     },
     "execution_count": 38,
     "metadata": {},
     "output_type": "execute_result"
    }
   ],
   "source": [
    "df = pd.read_csv(\"Проба.csv\")\n",
    "df"
   ]
  },
  {
   "cell_type": "markdown",
   "id": "53eee910-722f-48d5-8dca-602f833f0146",
   "metadata": {},
   "source": [
    "<div style=\"text-indent:30px; text-align:justify\">В качестве примера рассмотрим набор данных некоторого телефонного оператора, в котором  рассматривается проблема оттока клиентов.</div>\n",
    "<div style=\"text-indent:30px; text-align:justify; margin-top:20px\">Прочитаем данные и посмотрим на первые 5 строк с помощью метода <strong>head()</strong>:</div>"
   ]
  },
  {
   "cell_type": "code",
   "execution_count": 40,
   "id": "6e3d06c8-8b4b-4797-8d74-dcdb4ff7d9c4",
   "metadata": {},
   "outputs": [
    {
     "data": {
      "text/html": [
       "<div>\n",
       "<style scoped>\n",
       "    .dataframe tbody tr th:only-of-type {\n",
       "        vertical-align: middle;\n",
       "    }\n",
       "\n",
       "    .dataframe tbody tr th {\n",
       "        vertical-align: top;\n",
       "    }\n",
       "\n",
       "    .dataframe thead th {\n",
       "        text-align: right;\n",
       "    }\n",
       "</style>\n",
       "<table border=\"1\" class=\"dataframe\">\n",
       "  <thead>\n",
       "    <tr style=\"text-align: right;\">\n",
       "      <th></th>\n",
       "      <th>State</th>\n",
       "      <th>Account length</th>\n",
       "      <th>Area code</th>\n",
       "      <th>International plan</th>\n",
       "      <th>Voice mail plan</th>\n",
       "      <th>Number vmail messages</th>\n",
       "      <th>Total day minutes</th>\n",
       "      <th>Total day calls</th>\n",
       "      <th>Total day charge</th>\n",
       "      <th>Total eve minutes</th>\n",
       "      <th>Total eve calls</th>\n",
       "      <th>Total eve charge</th>\n",
       "      <th>Total night minutes</th>\n",
       "      <th>Total night calls</th>\n",
       "      <th>Total night charge</th>\n",
       "      <th>Total intl minutes</th>\n",
       "      <th>Total intl calls</th>\n",
       "      <th>Total intl charge</th>\n",
       "      <th>Customer service calls</th>\n",
       "      <th>Churn</th>\n",
       "    </tr>\n",
       "  </thead>\n",
       "  <tbody>\n",
       "    <tr>\n",
       "      <th>0</th>\n",
       "      <td>KS</td>\n",
       "      <td>128</td>\n",
       "      <td>415</td>\n",
       "      <td>No</td>\n",
       "      <td>Yes</td>\n",
       "      <td>25</td>\n",
       "      <td>265.1</td>\n",
       "      <td>110</td>\n",
       "      <td>45.07</td>\n",
       "      <td>197.4</td>\n",
       "      <td>99</td>\n",
       "      <td>16.78</td>\n",
       "      <td>244.7</td>\n",
       "      <td>91</td>\n",
       "      <td>11.01</td>\n",
       "      <td>10.0</td>\n",
       "      <td>3</td>\n",
       "      <td>2.70</td>\n",
       "      <td>1</td>\n",
       "      <td>False</td>\n",
       "    </tr>\n",
       "    <tr>\n",
       "      <th>1</th>\n",
       "      <td>OH</td>\n",
       "      <td>107</td>\n",
       "      <td>415</td>\n",
       "      <td>No</td>\n",
       "      <td>Yes</td>\n",
       "      <td>26</td>\n",
       "      <td>161.6</td>\n",
       "      <td>123</td>\n",
       "      <td>27.47</td>\n",
       "      <td>195.5</td>\n",
       "      <td>103</td>\n",
       "      <td>16.62</td>\n",
       "      <td>254.4</td>\n",
       "      <td>103</td>\n",
       "      <td>11.45</td>\n",
       "      <td>13.7</td>\n",
       "      <td>3</td>\n",
       "      <td>3.70</td>\n",
       "      <td>1</td>\n",
       "      <td>False</td>\n",
       "    </tr>\n",
       "    <tr>\n",
       "      <th>2</th>\n",
       "      <td>NJ</td>\n",
       "      <td>137</td>\n",
       "      <td>415</td>\n",
       "      <td>No</td>\n",
       "      <td>No</td>\n",
       "      <td>0</td>\n",
       "      <td>243.4</td>\n",
       "      <td>114</td>\n",
       "      <td>41.38</td>\n",
       "      <td>121.2</td>\n",
       "      <td>110</td>\n",
       "      <td>10.30</td>\n",
       "      <td>162.6</td>\n",
       "      <td>104</td>\n",
       "      <td>7.32</td>\n",
       "      <td>12.2</td>\n",
       "      <td>5</td>\n",
       "      <td>3.29</td>\n",
       "      <td>0</td>\n",
       "      <td>False</td>\n",
       "    </tr>\n",
       "    <tr>\n",
       "      <th>3</th>\n",
       "      <td>OH</td>\n",
       "      <td>84</td>\n",
       "      <td>408</td>\n",
       "      <td>Yes</td>\n",
       "      <td>No</td>\n",
       "      <td>0</td>\n",
       "      <td>299.4</td>\n",
       "      <td>71</td>\n",
       "      <td>50.90</td>\n",
       "      <td>61.9</td>\n",
       "      <td>88</td>\n",
       "      <td>5.26</td>\n",
       "      <td>196.9</td>\n",
       "      <td>89</td>\n",
       "      <td>8.86</td>\n",
       "      <td>6.6</td>\n",
       "      <td>7</td>\n",
       "      <td>1.78</td>\n",
       "      <td>2</td>\n",
       "      <td>False</td>\n",
       "    </tr>\n",
       "    <tr>\n",
       "      <th>4</th>\n",
       "      <td>OK</td>\n",
       "      <td>75</td>\n",
       "      <td>415</td>\n",
       "      <td>Yes</td>\n",
       "      <td>No</td>\n",
       "      <td>0</td>\n",
       "      <td>166.7</td>\n",
       "      <td>113</td>\n",
       "      <td>28.34</td>\n",
       "      <td>148.3</td>\n",
       "      <td>122</td>\n",
       "      <td>12.61</td>\n",
       "      <td>186.9</td>\n",
       "      <td>121</td>\n",
       "      <td>8.41</td>\n",
       "      <td>10.1</td>\n",
       "      <td>3</td>\n",
       "      <td>2.73</td>\n",
       "      <td>3</td>\n",
       "      <td>False</td>\n",
       "    </tr>\n",
       "  </tbody>\n",
       "</table>\n",
       "</div>"
      ],
      "text/plain": [
       "  State  Account length  Area code International plan Voice mail plan  \\\n",
       "0    KS             128        415                 No             Yes   \n",
       "1    OH             107        415                 No             Yes   \n",
       "2    NJ             137        415                 No              No   \n",
       "3    OH              84        408                Yes              No   \n",
       "4    OK              75        415                Yes              No   \n",
       "\n",
       "   Number vmail messages  Total day minutes  Total day calls  \\\n",
       "0                     25              265.1              110   \n",
       "1                     26              161.6              123   \n",
       "2                      0              243.4              114   \n",
       "3                      0              299.4               71   \n",
       "4                      0              166.7              113   \n",
       "\n",
       "   Total day charge  Total eve minutes  Total eve calls  Total eve charge  \\\n",
       "0             45.07              197.4               99             16.78   \n",
       "1             27.47              195.5              103             16.62   \n",
       "2             41.38              121.2              110             10.30   \n",
       "3             50.90               61.9               88              5.26   \n",
       "4             28.34              148.3              122             12.61   \n",
       "\n",
       "   Total night minutes  Total night calls  Total night charge  \\\n",
       "0                244.7                 91               11.01   \n",
       "1                254.4                103               11.45   \n",
       "2                162.6                104                7.32   \n",
       "3                196.9                 89                8.86   \n",
       "4                186.9                121                8.41   \n",
       "\n",
       "   Total intl minutes  Total intl calls  Total intl charge  \\\n",
       "0                10.0                 3               2.70   \n",
       "1                13.7                 3               3.70   \n",
       "2                12.2                 5               3.29   \n",
       "3                 6.6                 7               1.78   \n",
       "4                10.1                 3               2.73   \n",
       "\n",
       "   Customer service calls  Churn  \n",
       "0                       1  False  \n",
       "1                       1  False  \n",
       "2                       0  False  \n",
       "3                       2  False  \n",
       "4                       3  False  "
      ]
     },
     "execution_count": 40,
     "metadata": {},
     "output_type": "execute_result"
    }
   ],
   "source": [
    "df = pd.read_csv(\"http://vshot.ru/ssau/files/ooap/telecom_churn.csv\")\n",
    "df.head()"
   ]
  },
  {
   "cell_type": "markdown",
   "id": "4318458a-f0e9-4c6a-9fe3-cc0247539bbd",
   "metadata": {},
   "source": [
    "<div style=\"text-indent:30px; text-align:justify\">В Jupyter-ноутбуках датафреймы Pandas выводятся в виде вот таких красивых табличек, и <strong>print(df.head())</strong> выглядит хуже.</div>\n",
    "<div style=\"text-indent:30px; text-align:justify\">Кстати, по умолчанию Pandas выводит всего 20 столбцов и 60 строк, поэтому если ваш датафрейм больше, воспользуйтесь функцией <strong>set_option()</strong>:</div>"
   ]
  },
  {
   "cell_type": "code",
   "execution_count": 42,
   "id": "2ec3ad3f-0355-46df-aacd-09f2ceaa0df5",
   "metadata": {},
   "outputs": [],
   "source": [
    "pd.set_option(\"display.max_columns\", 100)\n",
    "pd.set_option(\"display.max_rows\", 100)"
   ]
  },
  {
   "cell_type": "markdown",
   "id": "4b435a98-4216-47d0-81b8-20fd97a7a818",
   "metadata": {},
   "source": [
    "<div style=\"text-indent:30px; text-align:justify\">Можно указать значение параметра presicion равным 1, чтобы отображать один знак после запятой.</div>"
   ]
  },
  {
   "cell_type": "code",
   "execution_count": 44,
   "id": "d5161f01-cb67-4cca-ab79-837e92f973e5",
   "metadata": {},
   "outputs": [
    {
     "data": {
      "text/html": [
       "<div>\n",
       "<style scoped>\n",
       "    .dataframe tbody tr th:only-of-type {\n",
       "        vertical-align: middle;\n",
       "    }\n",
       "\n",
       "    .dataframe tbody tr th {\n",
       "        vertical-align: top;\n",
       "    }\n",
       "\n",
       "    .dataframe thead th {\n",
       "        text-align: right;\n",
       "    }\n",
       "</style>\n",
       "<table border=\"1\" class=\"dataframe\">\n",
       "  <thead>\n",
       "    <tr style=\"text-align: right;\">\n",
       "      <th></th>\n",
       "      <th>State</th>\n",
       "      <th>Account length</th>\n",
       "      <th>Area code</th>\n",
       "      <th>International plan</th>\n",
       "      <th>Voice mail plan</th>\n",
       "      <th>Number vmail messages</th>\n",
       "      <th>Total day minutes</th>\n",
       "      <th>Total day calls</th>\n",
       "      <th>Total day charge</th>\n",
       "      <th>Total eve minutes</th>\n",
       "      <th>Total eve calls</th>\n",
       "      <th>Total eve charge</th>\n",
       "      <th>Total night minutes</th>\n",
       "      <th>Total night calls</th>\n",
       "      <th>Total night charge</th>\n",
       "      <th>Total intl minutes</th>\n",
       "      <th>Total intl calls</th>\n",
       "      <th>Total intl charge</th>\n",
       "      <th>Customer service calls</th>\n",
       "      <th>Churn</th>\n",
       "    </tr>\n",
       "  </thead>\n",
       "  <tbody>\n",
       "    <tr>\n",
       "      <th>0</th>\n",
       "      <td>KS</td>\n",
       "      <td>128</td>\n",
       "      <td>415</td>\n",
       "      <td>No</td>\n",
       "      <td>Yes</td>\n",
       "      <td>25</td>\n",
       "      <td>265.1</td>\n",
       "      <td>110</td>\n",
       "      <td>45.1</td>\n",
       "      <td>197.4</td>\n",
       "      <td>99</td>\n",
       "      <td>16.8</td>\n",
       "      <td>244.7</td>\n",
       "      <td>91</td>\n",
       "      <td>11.0</td>\n",
       "      <td>10.0</td>\n",
       "      <td>3</td>\n",
       "      <td>2.7</td>\n",
       "      <td>1</td>\n",
       "      <td>False</td>\n",
       "    </tr>\n",
       "    <tr>\n",
       "      <th>1</th>\n",
       "      <td>OH</td>\n",
       "      <td>107</td>\n",
       "      <td>415</td>\n",
       "      <td>No</td>\n",
       "      <td>Yes</td>\n",
       "      <td>26</td>\n",
       "      <td>161.6</td>\n",
       "      <td>123</td>\n",
       "      <td>27.5</td>\n",
       "      <td>195.5</td>\n",
       "      <td>103</td>\n",
       "      <td>16.6</td>\n",
       "      <td>254.4</td>\n",
       "      <td>103</td>\n",
       "      <td>11.4</td>\n",
       "      <td>13.7</td>\n",
       "      <td>3</td>\n",
       "      <td>3.7</td>\n",
       "      <td>1</td>\n",
       "      <td>False</td>\n",
       "    </tr>\n",
       "    <tr>\n",
       "      <th>2</th>\n",
       "      <td>NJ</td>\n",
       "      <td>137</td>\n",
       "      <td>415</td>\n",
       "      <td>No</td>\n",
       "      <td>No</td>\n",
       "      <td>0</td>\n",
       "      <td>243.4</td>\n",
       "      <td>114</td>\n",
       "      <td>41.4</td>\n",
       "      <td>121.2</td>\n",
       "      <td>110</td>\n",
       "      <td>10.3</td>\n",
       "      <td>162.6</td>\n",
       "      <td>104</td>\n",
       "      <td>7.3</td>\n",
       "      <td>12.2</td>\n",
       "      <td>5</td>\n",
       "      <td>3.3</td>\n",
       "      <td>0</td>\n",
       "      <td>False</td>\n",
       "    </tr>\n",
       "    <tr>\n",
       "      <th>3</th>\n",
       "      <td>OH</td>\n",
       "      <td>84</td>\n",
       "      <td>408</td>\n",
       "      <td>Yes</td>\n",
       "      <td>No</td>\n",
       "      <td>0</td>\n",
       "      <td>299.4</td>\n",
       "      <td>71</td>\n",
       "      <td>50.9</td>\n",
       "      <td>61.9</td>\n",
       "      <td>88</td>\n",
       "      <td>5.3</td>\n",
       "      <td>196.9</td>\n",
       "      <td>89</td>\n",
       "      <td>8.9</td>\n",
       "      <td>6.6</td>\n",
       "      <td>7</td>\n",
       "      <td>1.8</td>\n",
       "      <td>2</td>\n",
       "      <td>False</td>\n",
       "    </tr>\n",
       "    <tr>\n",
       "      <th>4</th>\n",
       "      <td>OK</td>\n",
       "      <td>75</td>\n",
       "      <td>415</td>\n",
       "      <td>Yes</td>\n",
       "      <td>No</td>\n",
       "      <td>0</td>\n",
       "      <td>166.7</td>\n",
       "      <td>113</td>\n",
       "      <td>28.3</td>\n",
       "      <td>148.3</td>\n",
       "      <td>122</td>\n",
       "      <td>12.6</td>\n",
       "      <td>186.9</td>\n",
       "      <td>121</td>\n",
       "      <td>8.4</td>\n",
       "      <td>10.1</td>\n",
       "      <td>3</td>\n",
       "      <td>2.7</td>\n",
       "      <td>3</td>\n",
       "      <td>False</td>\n",
       "    </tr>\n",
       "  </tbody>\n",
       "</table>\n",
       "</div>"
      ],
      "text/plain": [
       "  State  Account length  Area code International plan Voice mail plan  \\\n",
       "0    KS             128        415                 No             Yes   \n",
       "1    OH             107        415                 No             Yes   \n",
       "2    NJ             137        415                 No              No   \n",
       "3    OH              84        408                Yes              No   \n",
       "4    OK              75        415                Yes              No   \n",
       "\n",
       "   Number vmail messages  Total day minutes  Total day calls  \\\n",
       "0                     25              265.1              110   \n",
       "1                     26              161.6              123   \n",
       "2                      0              243.4              114   \n",
       "3                      0              299.4               71   \n",
       "4                      0              166.7              113   \n",
       "\n",
       "   Total day charge  Total eve minutes  Total eve calls  Total eve charge  \\\n",
       "0              45.1              197.4               99              16.8   \n",
       "1              27.5              195.5              103              16.6   \n",
       "2              41.4              121.2              110              10.3   \n",
       "3              50.9               61.9               88               5.3   \n",
       "4              28.3              148.3              122              12.6   \n",
       "\n",
       "   Total night minutes  Total night calls  Total night charge  \\\n",
       "0                244.7                 91                11.0   \n",
       "1                254.4                103                11.4   \n",
       "2                162.6                104                 7.3   \n",
       "3                196.9                 89                 8.9   \n",
       "4                186.9                121                 8.4   \n",
       "\n",
       "   Total intl minutes  Total intl calls  Total intl charge  \\\n",
       "0                10.0                 3                2.7   \n",
       "1                13.7                 3                3.7   \n",
       "2                12.2                 5                3.3   \n",
       "3                 6.6                 7                1.8   \n",
       "4                10.1                 3                2.7   \n",
       "\n",
       "   Customer service calls  Churn  \n",
       "0                       1  False  \n",
       "1                       1  False  \n",
       "2                       0  False  \n",
       "3                       2  False  \n",
       "4                       3  False  "
      ]
     },
     "execution_count": 44,
     "metadata": {},
     "output_type": "execute_result"
    }
   ],
   "source": [
    "pd.set_option(\"display.precision\", 1)\n",
    "df.head()"
   ]
  },
  {
   "cell_type": "markdown",
   "id": "73d8542e-38ec-4334-81b4-e246a2486a60",
   "metadata": {},
   "source": [
    "<div style=\"text-indent:30px; text-align:justify\">Каждая строка датафрейма соответствует одному клиенту, а столбцы являются характеристиками.</div>\n",
    "<div style=\"text-indent:30px; text-align:justify; margin-top:20px\">Давайте рассмотрим размерность данных, имена и типы объектов:</div>"
   ]
  },
  {
   "cell_type": "code",
   "execution_count": 46,
   "id": "31d6f431-3165-4837-b76a-e0e04b88c8b2",
   "metadata": {},
   "outputs": [
    {
     "name": "stdout",
     "output_type": "stream",
     "text": [
      "(3333, 20)\n"
     ]
    }
   ],
   "source": [
    "print(df.shape)"
   ]
  },
  {
   "cell_type": "markdown",
   "id": "1b8faf2d-c659-40fc-bfad-3369cc64ab49",
   "metadata": {},
   "source": [
    "<div style=\"text-indent:30px; text-align:justify\">Как видим, таблица содержит 3333 строки и 20 столбцов.</div>\n",
    "<div style=\"text-indent:30px; text-align:justify; margin-top:20px\">Выведем названия столбцов с помощью метода <strong>.columns</strong>:</div>"
   ]
  },
  {
   "cell_type": "code",
   "execution_count": 48,
   "id": "3af5295b-d16b-4bb1-8099-fa682c6c4f9c",
   "metadata": {},
   "outputs": [
    {
     "data": {
      "text/plain": [
       "Index(['State', 'Account length', 'Area code', 'International plan',\n",
       "       'Voice mail plan', 'Number vmail messages', 'Total day minutes',\n",
       "       'Total day calls', 'Total day charge', 'Total eve minutes',\n",
       "       'Total eve calls', 'Total eve charge', 'Total night minutes',\n",
       "       'Total night calls', 'Total night charge', 'Total intl minutes',\n",
       "       'Total intl calls', 'Total intl charge', 'Customer service calls',\n",
       "       'Churn'],\n",
       "      dtype='object')"
      ]
     },
     "execution_count": 48,
     "metadata": {},
     "output_type": "execute_result"
    }
   ],
   "source": [
    "df.columns"
   ]
  },
  {
   "cell_type": "markdown",
   "id": "1088b5c1-8041-4dac-945b-ca13ccc60b2a",
   "metadata": {},
   "source": [
    "<div style=\"text-indent:30px; text-align:justify\">Чтобы посмотреть общую информацию по датафрейму и всем признакам, воспользуемся методом <strong>.info()</strong>:</div>"
   ]
  },
  {
   "cell_type": "code",
   "execution_count": 50,
   "id": "22ce10e0-caec-43d4-8e35-3b3ec389c90c",
   "metadata": {},
   "outputs": [
    {
     "name": "stdout",
     "output_type": "stream",
     "text": [
      "<class 'pandas.core.frame.DataFrame'>\n",
      "RangeIndex: 3333 entries, 0 to 3332\n",
      "Data columns (total 20 columns):\n",
      " #   Column                  Non-Null Count  Dtype  \n",
      "---  ------                  --------------  -----  \n",
      " 0   State                   3333 non-null   object \n",
      " 1   Account length          3333 non-null   int64  \n",
      " 2   Area code               3333 non-null   int64  \n",
      " 3   International plan      3333 non-null   object \n",
      " 4   Voice mail plan         3333 non-null   object \n",
      " 5   Number vmail messages   3333 non-null   int64  \n",
      " 6   Total day minutes       3333 non-null   float64\n",
      " 7   Total day calls         3333 non-null   int64  \n",
      " 8   Total day charge        3333 non-null   float64\n",
      " 9   Total eve minutes       3333 non-null   float64\n",
      " 10  Total eve calls         3333 non-null   int64  \n",
      " 11  Total eve charge        3333 non-null   float64\n",
      " 12  Total night minutes     3333 non-null   float64\n",
      " 13  Total night calls       3333 non-null   int64  \n",
      " 14  Total night charge      3333 non-null   float64\n",
      " 15  Total intl minutes      3333 non-null   float64\n",
      " 16  Total intl calls        3333 non-null   int64  \n",
      " 17  Total intl charge       3333 non-null   float64\n",
      " 18  Customer service calls  3333 non-null   int64  \n",
      " 19  Churn                   3333 non-null   bool   \n",
      "dtypes: bool(1), float64(8), int64(8), object(3)\n",
      "memory usage: 498.1+ KB\n",
      "None\n"
     ]
    }
   ],
   "source": [
    "print(df.info())"
   ]
  },
  {
   "cell_type": "markdown",
   "id": "153ebdd8-020c-4065-a50b-61ec5ad2f05f",
   "metadata": {},
   "source": [
    "<div style=\"text-indent:30px; text-align:justify\"><strong>bool</strong>, <strong>int64</strong>, <strong>float64</strong> и <strong>object</strong> — это типы признаков. Видим, что 1 признак — логический (<strong>bool</strong>), 3 признака имеют тип <strong>object</strong> и 16 признаков — числовые.</div>\n",
    "<div style=\"text-indent:30px; text-align:justify\">Если в качестве индекса указать имя столбца, получится одномерный набор данных типа <strong>Series</strong>.</div>\n",
    "<div style=\"text-indent:30px; text-align:justify\">Изменить тип колонки можно с помощью метода <strong>astype</strong>. Применим этот метод к признаку <strong>Churn</strong> (<i>Отток</i>) и переведём его в <strong>int64</strong>:</div>"
   ]
  },
  {
   "cell_type": "code",
   "execution_count": 52,
   "id": "ded3cd9a-dded-4cb0-b75e-8e843dfc3594",
   "metadata": {},
   "outputs": [
    {
     "data": {
      "text/html": [
       "<div>\n",
       "<style scoped>\n",
       "    .dataframe tbody tr th:only-of-type {\n",
       "        vertical-align: middle;\n",
       "    }\n",
       "\n",
       "    .dataframe tbody tr th {\n",
       "        vertical-align: top;\n",
       "    }\n",
       "\n",
       "    .dataframe thead th {\n",
       "        text-align: right;\n",
       "    }\n",
       "</style>\n",
       "<table border=\"1\" class=\"dataframe\">\n",
       "  <thead>\n",
       "    <tr style=\"text-align: right;\">\n",
       "      <th></th>\n",
       "      <th>State</th>\n",
       "      <th>Account length</th>\n",
       "      <th>Area code</th>\n",
       "      <th>International plan</th>\n",
       "      <th>Voice mail plan</th>\n",
       "      <th>Number vmail messages</th>\n",
       "      <th>Total day minutes</th>\n",
       "      <th>Total day calls</th>\n",
       "      <th>Total day charge</th>\n",
       "      <th>Total eve minutes</th>\n",
       "      <th>Total eve calls</th>\n",
       "      <th>Total eve charge</th>\n",
       "      <th>Total night minutes</th>\n",
       "      <th>Total night calls</th>\n",
       "      <th>Total night charge</th>\n",
       "      <th>Total intl minutes</th>\n",
       "      <th>Total intl calls</th>\n",
       "      <th>Total intl charge</th>\n",
       "      <th>Customer service calls</th>\n",
       "      <th>Churn</th>\n",
       "    </tr>\n",
       "  </thead>\n",
       "  <tbody>\n",
       "    <tr>\n",
       "      <th>0</th>\n",
       "      <td>KS</td>\n",
       "      <td>128</td>\n",
       "      <td>415</td>\n",
       "      <td>No</td>\n",
       "      <td>Yes</td>\n",
       "      <td>25</td>\n",
       "      <td>265.1</td>\n",
       "      <td>110</td>\n",
       "      <td>45.1</td>\n",
       "      <td>197.4</td>\n",
       "      <td>99</td>\n",
       "      <td>16.8</td>\n",
       "      <td>244.7</td>\n",
       "      <td>91</td>\n",
       "      <td>11.0</td>\n",
       "      <td>10.0</td>\n",
       "      <td>3</td>\n",
       "      <td>2.7</td>\n",
       "      <td>1</td>\n",
       "      <td>0</td>\n",
       "    </tr>\n",
       "    <tr>\n",
       "      <th>1</th>\n",
       "      <td>OH</td>\n",
       "      <td>107</td>\n",
       "      <td>415</td>\n",
       "      <td>No</td>\n",
       "      <td>Yes</td>\n",
       "      <td>26</td>\n",
       "      <td>161.6</td>\n",
       "      <td>123</td>\n",
       "      <td>27.5</td>\n",
       "      <td>195.5</td>\n",
       "      <td>103</td>\n",
       "      <td>16.6</td>\n",
       "      <td>254.4</td>\n",
       "      <td>103</td>\n",
       "      <td>11.4</td>\n",
       "      <td>13.7</td>\n",
       "      <td>3</td>\n",
       "      <td>3.7</td>\n",
       "      <td>1</td>\n",
       "      <td>0</td>\n",
       "    </tr>\n",
       "    <tr>\n",
       "      <th>2</th>\n",
       "      <td>NJ</td>\n",
       "      <td>137</td>\n",
       "      <td>415</td>\n",
       "      <td>No</td>\n",
       "      <td>No</td>\n",
       "      <td>0</td>\n",
       "      <td>243.4</td>\n",
       "      <td>114</td>\n",
       "      <td>41.4</td>\n",
       "      <td>121.2</td>\n",
       "      <td>110</td>\n",
       "      <td>10.3</td>\n",
       "      <td>162.6</td>\n",
       "      <td>104</td>\n",
       "      <td>7.3</td>\n",
       "      <td>12.2</td>\n",
       "      <td>5</td>\n",
       "      <td>3.3</td>\n",
       "      <td>0</td>\n",
       "      <td>0</td>\n",
       "    </tr>\n",
       "    <tr>\n",
       "      <th>3</th>\n",
       "      <td>OH</td>\n",
       "      <td>84</td>\n",
       "      <td>408</td>\n",
       "      <td>Yes</td>\n",
       "      <td>No</td>\n",
       "      <td>0</td>\n",
       "      <td>299.4</td>\n",
       "      <td>71</td>\n",
       "      <td>50.9</td>\n",
       "      <td>61.9</td>\n",
       "      <td>88</td>\n",
       "      <td>5.3</td>\n",
       "      <td>196.9</td>\n",
       "      <td>89</td>\n",
       "      <td>8.9</td>\n",
       "      <td>6.6</td>\n",
       "      <td>7</td>\n",
       "      <td>1.8</td>\n",
       "      <td>2</td>\n",
       "      <td>0</td>\n",
       "    </tr>\n",
       "    <tr>\n",
       "      <th>4</th>\n",
       "      <td>OK</td>\n",
       "      <td>75</td>\n",
       "      <td>415</td>\n",
       "      <td>Yes</td>\n",
       "      <td>No</td>\n",
       "      <td>0</td>\n",
       "      <td>166.7</td>\n",
       "      <td>113</td>\n",
       "      <td>28.3</td>\n",
       "      <td>148.3</td>\n",
       "      <td>122</td>\n",
       "      <td>12.6</td>\n",
       "      <td>186.9</td>\n",
       "      <td>121</td>\n",
       "      <td>8.4</td>\n",
       "      <td>10.1</td>\n",
       "      <td>3</td>\n",
       "      <td>2.7</td>\n",
       "      <td>3</td>\n",
       "      <td>0</td>\n",
       "    </tr>\n",
       "    <tr>\n",
       "      <th>...</th>\n",
       "      <td>...</td>\n",
       "      <td>...</td>\n",
       "      <td>...</td>\n",
       "      <td>...</td>\n",
       "      <td>...</td>\n",
       "      <td>...</td>\n",
       "      <td>...</td>\n",
       "      <td>...</td>\n",
       "      <td>...</td>\n",
       "      <td>...</td>\n",
       "      <td>...</td>\n",
       "      <td>...</td>\n",
       "      <td>...</td>\n",
       "      <td>...</td>\n",
       "      <td>...</td>\n",
       "      <td>...</td>\n",
       "      <td>...</td>\n",
       "      <td>...</td>\n",
       "      <td>...</td>\n",
       "      <td>...</td>\n",
       "    </tr>\n",
       "    <tr>\n",
       "      <th>3328</th>\n",
       "      <td>AZ</td>\n",
       "      <td>192</td>\n",
       "      <td>415</td>\n",
       "      <td>No</td>\n",
       "      <td>Yes</td>\n",
       "      <td>36</td>\n",
       "      <td>156.2</td>\n",
       "      <td>77</td>\n",
       "      <td>26.6</td>\n",
       "      <td>215.5</td>\n",
       "      <td>126</td>\n",
       "      <td>18.3</td>\n",
       "      <td>279.1</td>\n",
       "      <td>83</td>\n",
       "      <td>12.6</td>\n",
       "      <td>9.9</td>\n",
       "      <td>6</td>\n",
       "      <td>2.7</td>\n",
       "      <td>2</td>\n",
       "      <td>0</td>\n",
       "    </tr>\n",
       "    <tr>\n",
       "      <th>3329</th>\n",
       "      <td>WV</td>\n",
       "      <td>68</td>\n",
       "      <td>415</td>\n",
       "      <td>No</td>\n",
       "      <td>No</td>\n",
       "      <td>0</td>\n",
       "      <td>231.1</td>\n",
       "      <td>57</td>\n",
       "      <td>39.3</td>\n",
       "      <td>153.4</td>\n",
       "      <td>55</td>\n",
       "      <td>13.0</td>\n",
       "      <td>191.3</td>\n",
       "      <td>123</td>\n",
       "      <td>8.6</td>\n",
       "      <td>9.6</td>\n",
       "      <td>4</td>\n",
       "      <td>2.6</td>\n",
       "      <td>3</td>\n",
       "      <td>0</td>\n",
       "    </tr>\n",
       "    <tr>\n",
       "      <th>3330</th>\n",
       "      <td>RI</td>\n",
       "      <td>28</td>\n",
       "      <td>510</td>\n",
       "      <td>No</td>\n",
       "      <td>No</td>\n",
       "      <td>0</td>\n",
       "      <td>180.8</td>\n",
       "      <td>109</td>\n",
       "      <td>30.7</td>\n",
       "      <td>288.8</td>\n",
       "      <td>58</td>\n",
       "      <td>24.6</td>\n",
       "      <td>191.9</td>\n",
       "      <td>91</td>\n",
       "      <td>8.6</td>\n",
       "      <td>14.1</td>\n",
       "      <td>6</td>\n",
       "      <td>3.8</td>\n",
       "      <td>2</td>\n",
       "      <td>0</td>\n",
       "    </tr>\n",
       "    <tr>\n",
       "      <th>3331</th>\n",
       "      <td>CT</td>\n",
       "      <td>184</td>\n",
       "      <td>510</td>\n",
       "      <td>Yes</td>\n",
       "      <td>No</td>\n",
       "      <td>0</td>\n",
       "      <td>213.8</td>\n",
       "      <td>105</td>\n",
       "      <td>36.4</td>\n",
       "      <td>159.6</td>\n",
       "      <td>84</td>\n",
       "      <td>13.6</td>\n",
       "      <td>139.2</td>\n",
       "      <td>137</td>\n",
       "      <td>6.3</td>\n",
       "      <td>5.0</td>\n",
       "      <td>10</td>\n",
       "      <td>1.4</td>\n",
       "      <td>2</td>\n",
       "      <td>0</td>\n",
       "    </tr>\n",
       "    <tr>\n",
       "      <th>3332</th>\n",
       "      <td>TN</td>\n",
       "      <td>74</td>\n",
       "      <td>415</td>\n",
       "      <td>No</td>\n",
       "      <td>Yes</td>\n",
       "      <td>25</td>\n",
       "      <td>234.4</td>\n",
       "      <td>113</td>\n",
       "      <td>39.9</td>\n",
       "      <td>265.9</td>\n",
       "      <td>82</td>\n",
       "      <td>22.6</td>\n",
       "      <td>241.4</td>\n",
       "      <td>77</td>\n",
       "      <td>10.9</td>\n",
       "      <td>13.7</td>\n",
       "      <td>4</td>\n",
       "      <td>3.7</td>\n",
       "      <td>0</td>\n",
       "      <td>0</td>\n",
       "    </tr>\n",
       "  </tbody>\n",
       "</table>\n",
       "<p>3333 rows × 20 columns</p>\n",
       "</div>"
      ],
      "text/plain": [
       "     State  Account length  Area code International plan Voice mail plan  \\\n",
       "0       KS             128        415                 No             Yes   \n",
       "1       OH             107        415                 No             Yes   \n",
       "2       NJ             137        415                 No              No   \n",
       "3       OH              84        408                Yes              No   \n",
       "4       OK              75        415                Yes              No   \n",
       "...    ...             ...        ...                ...             ...   \n",
       "3328    AZ             192        415                 No             Yes   \n",
       "3329    WV              68        415                 No              No   \n",
       "3330    RI              28        510                 No              No   \n",
       "3331    CT             184        510                Yes              No   \n",
       "3332    TN              74        415                 No             Yes   \n",
       "\n",
       "      Number vmail messages  Total day minutes  Total day calls  \\\n",
       "0                        25              265.1              110   \n",
       "1                        26              161.6              123   \n",
       "2                         0              243.4              114   \n",
       "3                         0              299.4               71   \n",
       "4                         0              166.7              113   \n",
       "...                     ...                ...              ...   \n",
       "3328                     36              156.2               77   \n",
       "3329                      0              231.1               57   \n",
       "3330                      0              180.8              109   \n",
       "3331                      0              213.8              105   \n",
       "3332                     25              234.4              113   \n",
       "\n",
       "      Total day charge  Total eve minutes  Total eve calls  Total eve charge  \\\n",
       "0                 45.1              197.4               99              16.8   \n",
       "1                 27.5              195.5              103              16.6   \n",
       "2                 41.4              121.2              110              10.3   \n",
       "3                 50.9               61.9               88               5.3   \n",
       "4                 28.3              148.3              122              12.6   \n",
       "...                ...                ...              ...               ...   \n",
       "3328              26.6              215.5              126              18.3   \n",
       "3329              39.3              153.4               55              13.0   \n",
       "3330              30.7              288.8               58              24.6   \n",
       "3331              36.4              159.6               84              13.6   \n",
       "3332              39.9              265.9               82              22.6   \n",
       "\n",
       "      Total night minutes  Total night calls  Total night charge  \\\n",
       "0                   244.7                 91                11.0   \n",
       "1                   254.4                103                11.4   \n",
       "2                   162.6                104                 7.3   \n",
       "3                   196.9                 89                 8.9   \n",
       "4                   186.9                121                 8.4   \n",
       "...                   ...                ...                 ...   \n",
       "3328                279.1                 83                12.6   \n",
       "3329                191.3                123                 8.6   \n",
       "3330                191.9                 91                 8.6   \n",
       "3331                139.2                137                 6.3   \n",
       "3332                241.4                 77                10.9   \n",
       "\n",
       "      Total intl minutes  Total intl calls  Total intl charge  \\\n",
       "0                   10.0                 3                2.7   \n",
       "1                   13.7                 3                3.7   \n",
       "2                   12.2                 5                3.3   \n",
       "3                    6.6                 7                1.8   \n",
       "4                   10.1                 3                2.7   \n",
       "...                  ...               ...                ...   \n",
       "3328                 9.9                 6                2.7   \n",
       "3329                 9.6                 4                2.6   \n",
       "3330                14.1                 6                3.8   \n",
       "3331                 5.0                10                1.4   \n",
       "3332                13.7                 4                3.7   \n",
       "\n",
       "      Customer service calls  Churn  \n",
       "0                          1      0  \n",
       "1                          1      0  \n",
       "2                          0      0  \n",
       "3                          2      0  \n",
       "4                          3      0  \n",
       "...                      ...    ...  \n",
       "3328                       2      0  \n",
       "3329                       3      0  \n",
       "3330                       2      0  \n",
       "3331                       2      0  \n",
       "3332                       0      0  \n",
       "\n",
       "[3333 rows x 20 columns]"
      ]
     },
     "execution_count": 52,
     "metadata": {},
     "output_type": "execute_result"
    }
   ],
   "source": [
    "df[\"Churn\"] = df[\"Churn\"].astype(\"int64\")\n",
    "df"
   ]
  },
  {
   "cell_type": "markdown",
   "id": "b273cfb1-00e3-40ee-9eb6-1c7338fc26bd",
   "metadata": {},
   "source": [
    "<div style=\"text-indent:30px; text-align:justify\">Теперь вместо логического значения признак <strong>Churn</strong> (Отток) должен принимать значения 0 или 1.</div>"
   ]
  },
  {
   "cell_type": "markdown",
   "id": "2552d600-75f0-4760-a4c8-1c9e7c7089ef",
   "metadata": {},
   "source": [
    "<div style=\"text-indent:30px; text-align:justify; margin-top:20px\">Метод <strong>describe</strong> показывает основные статистические характеристики данных по каждому числовому признаку (типы <strong>int64</strong> и <strong>float64</strong>): число непропущенных значений, среднее, стандартное отклонение, диапазон, медиану, 0.25 и 0.75 квартили.</div>"
   ]
  },
  {
   "cell_type": "code",
   "execution_count": 55,
   "id": "429166ff-a560-45c7-bc71-99e6eee77df0",
   "metadata": {},
   "outputs": [
    {
     "data": {
      "text/html": [
       "<div>\n",
       "<style scoped>\n",
       "    .dataframe tbody tr th:only-of-type {\n",
       "        vertical-align: middle;\n",
       "    }\n",
       "\n",
       "    .dataframe tbody tr th {\n",
       "        vertical-align: top;\n",
       "    }\n",
       "\n",
       "    .dataframe thead th {\n",
       "        text-align: right;\n",
       "    }\n",
       "</style>\n",
       "<table border=\"1\" class=\"dataframe\">\n",
       "  <thead>\n",
       "    <tr style=\"text-align: right;\">\n",
       "      <th></th>\n",
       "      <th>Account length</th>\n",
       "      <th>Area code</th>\n",
       "      <th>Number vmail messages</th>\n",
       "      <th>Total day minutes</th>\n",
       "      <th>Total day calls</th>\n",
       "      <th>Total day charge</th>\n",
       "      <th>Total eve minutes</th>\n",
       "      <th>Total eve calls</th>\n",
       "      <th>Total eve charge</th>\n",
       "      <th>Total night minutes</th>\n",
       "      <th>Total night calls</th>\n",
       "      <th>Total night charge</th>\n",
       "      <th>Total intl minutes</th>\n",
       "      <th>Total intl calls</th>\n",
       "      <th>Total intl charge</th>\n",
       "      <th>Customer service calls</th>\n",
       "      <th>Churn</th>\n",
       "    </tr>\n",
       "  </thead>\n",
       "  <tbody>\n",
       "    <tr>\n",
       "      <th>count</th>\n",
       "      <td>3333.0</td>\n",
       "      <td>3333.0</td>\n",
       "      <td>3333.0</td>\n",
       "      <td>3333.0</td>\n",
       "      <td>3333.0</td>\n",
       "      <td>3333.0</td>\n",
       "      <td>3333.0</td>\n",
       "      <td>3333.0</td>\n",
       "      <td>3333.0</td>\n",
       "      <td>3333.0</td>\n",
       "      <td>3333.0</td>\n",
       "      <td>3333.0</td>\n",
       "      <td>3333.0</td>\n",
       "      <td>3333.0</td>\n",
       "      <td>3333.0</td>\n",
       "      <td>3333.0</td>\n",
       "      <td>3333.0</td>\n",
       "    </tr>\n",
       "    <tr>\n",
       "      <th>mean</th>\n",
       "      <td>101.1</td>\n",
       "      <td>437.2</td>\n",
       "      <td>8.1</td>\n",
       "      <td>179.8</td>\n",
       "      <td>100.4</td>\n",
       "      <td>30.6</td>\n",
       "      <td>201.0</td>\n",
       "      <td>100.1</td>\n",
       "      <td>17.1</td>\n",
       "      <td>200.9</td>\n",
       "      <td>100.1</td>\n",
       "      <td>9.0</td>\n",
       "      <td>10.2</td>\n",
       "      <td>4.5</td>\n",
       "      <td>2.8</td>\n",
       "      <td>1.6</td>\n",
       "      <td>0.1</td>\n",
       "    </tr>\n",
       "    <tr>\n",
       "      <th>std</th>\n",
       "      <td>39.8</td>\n",
       "      <td>42.4</td>\n",
       "      <td>13.7</td>\n",
       "      <td>54.5</td>\n",
       "      <td>20.1</td>\n",
       "      <td>9.3</td>\n",
       "      <td>50.7</td>\n",
       "      <td>19.9</td>\n",
       "      <td>4.3</td>\n",
       "      <td>50.6</td>\n",
       "      <td>19.6</td>\n",
       "      <td>2.3</td>\n",
       "      <td>2.8</td>\n",
       "      <td>2.5</td>\n",
       "      <td>0.8</td>\n",
       "      <td>1.3</td>\n",
       "      <td>0.4</td>\n",
       "    </tr>\n",
       "    <tr>\n",
       "      <th>min</th>\n",
       "      <td>1.0</td>\n",
       "      <td>408.0</td>\n",
       "      <td>0.0</td>\n",
       "      <td>0.0</td>\n",
       "      <td>0.0</td>\n",
       "      <td>0.0</td>\n",
       "      <td>0.0</td>\n",
       "      <td>0.0</td>\n",
       "      <td>0.0</td>\n",
       "      <td>23.2</td>\n",
       "      <td>33.0</td>\n",
       "      <td>1.0</td>\n",
       "      <td>0.0</td>\n",
       "      <td>0.0</td>\n",
       "      <td>0.0</td>\n",
       "      <td>0.0</td>\n",
       "      <td>0.0</td>\n",
       "    </tr>\n",
       "    <tr>\n",
       "      <th>25%</th>\n",
       "      <td>74.0</td>\n",
       "      <td>408.0</td>\n",
       "      <td>0.0</td>\n",
       "      <td>143.7</td>\n",
       "      <td>87.0</td>\n",
       "      <td>24.4</td>\n",
       "      <td>166.6</td>\n",
       "      <td>87.0</td>\n",
       "      <td>14.2</td>\n",
       "      <td>167.0</td>\n",
       "      <td>87.0</td>\n",
       "      <td>7.5</td>\n",
       "      <td>8.5</td>\n",
       "      <td>3.0</td>\n",
       "      <td>2.3</td>\n",
       "      <td>1.0</td>\n",
       "      <td>0.0</td>\n",
       "    </tr>\n",
       "    <tr>\n",
       "      <th>50%</th>\n",
       "      <td>101.0</td>\n",
       "      <td>415.0</td>\n",
       "      <td>0.0</td>\n",
       "      <td>179.4</td>\n",
       "      <td>101.0</td>\n",
       "      <td>30.5</td>\n",
       "      <td>201.4</td>\n",
       "      <td>100.0</td>\n",
       "      <td>17.1</td>\n",
       "      <td>201.2</td>\n",
       "      <td>100.0</td>\n",
       "      <td>9.1</td>\n",
       "      <td>10.3</td>\n",
       "      <td>4.0</td>\n",
       "      <td>2.8</td>\n",
       "      <td>1.0</td>\n",
       "      <td>0.0</td>\n",
       "    </tr>\n",
       "    <tr>\n",
       "      <th>75%</th>\n",
       "      <td>127.0</td>\n",
       "      <td>510.0</td>\n",
       "      <td>20.0</td>\n",
       "      <td>216.4</td>\n",
       "      <td>114.0</td>\n",
       "      <td>36.8</td>\n",
       "      <td>235.3</td>\n",
       "      <td>114.0</td>\n",
       "      <td>20.0</td>\n",
       "      <td>235.3</td>\n",
       "      <td>113.0</td>\n",
       "      <td>10.6</td>\n",
       "      <td>12.1</td>\n",
       "      <td>6.0</td>\n",
       "      <td>3.3</td>\n",
       "      <td>2.0</td>\n",
       "      <td>0.0</td>\n",
       "    </tr>\n",
       "    <tr>\n",
       "      <th>max</th>\n",
       "      <td>243.0</td>\n",
       "      <td>510.0</td>\n",
       "      <td>51.0</td>\n",
       "      <td>350.8</td>\n",
       "      <td>165.0</td>\n",
       "      <td>59.6</td>\n",
       "      <td>363.7</td>\n",
       "      <td>170.0</td>\n",
       "      <td>30.9</td>\n",
       "      <td>395.0</td>\n",
       "      <td>175.0</td>\n",
       "      <td>17.8</td>\n",
       "      <td>20.0</td>\n",
       "      <td>20.0</td>\n",
       "      <td>5.4</td>\n",
       "      <td>9.0</td>\n",
       "      <td>1.0</td>\n",
       "    </tr>\n",
       "  </tbody>\n",
       "</table>\n",
       "</div>"
      ],
      "text/plain": [
       "       Account length  Area code  Number vmail messages  Total day minutes  \\\n",
       "count          3333.0     3333.0                 3333.0             3333.0   \n",
       "mean            101.1      437.2                    8.1              179.8   \n",
       "std              39.8       42.4                   13.7               54.5   \n",
       "min               1.0      408.0                    0.0                0.0   \n",
       "25%              74.0      408.0                    0.0              143.7   \n",
       "50%             101.0      415.0                    0.0              179.4   \n",
       "75%             127.0      510.0                   20.0              216.4   \n",
       "max             243.0      510.0                   51.0              350.8   \n",
       "\n",
       "       Total day calls  Total day charge  Total eve minutes  Total eve calls  \\\n",
       "count           3333.0            3333.0             3333.0           3333.0   \n",
       "mean             100.4              30.6              201.0            100.1   \n",
       "std               20.1               9.3               50.7             19.9   \n",
       "min                0.0               0.0                0.0              0.0   \n",
       "25%               87.0              24.4              166.6             87.0   \n",
       "50%              101.0              30.5              201.4            100.0   \n",
       "75%              114.0              36.8              235.3            114.0   \n",
       "max              165.0              59.6              363.7            170.0   \n",
       "\n",
       "       Total eve charge  Total night minutes  Total night calls  \\\n",
       "count            3333.0               3333.0             3333.0   \n",
       "mean               17.1                200.9              100.1   \n",
       "std                 4.3                 50.6               19.6   \n",
       "min                 0.0                 23.2               33.0   \n",
       "25%                14.2                167.0               87.0   \n",
       "50%                17.1                201.2              100.0   \n",
       "75%                20.0                235.3              113.0   \n",
       "max                30.9                395.0              175.0   \n",
       "\n",
       "       Total night charge  Total intl minutes  Total intl calls  \\\n",
       "count              3333.0              3333.0            3333.0   \n",
       "mean                  9.0                10.2               4.5   \n",
       "std                   2.3                 2.8               2.5   \n",
       "min                   1.0                 0.0               0.0   \n",
       "25%                   7.5                 8.5               3.0   \n",
       "50%                   9.1                10.3               4.0   \n",
       "75%                  10.6                12.1               6.0   \n",
       "max                  17.8                20.0              20.0   \n",
       "\n",
       "       Total intl charge  Customer service calls   Churn  \n",
       "count             3333.0                  3333.0  3333.0  \n",
       "mean                 2.8                     1.6     0.1  \n",
       "std                  0.8                     1.3     0.4  \n",
       "min                  0.0                     0.0     0.0  \n",
       "25%                  2.3                     1.0     0.0  \n",
       "50%                  2.8                     1.0     0.0  \n",
       "75%                  3.3                     2.0     0.0  \n",
       "max                  5.4                     9.0     1.0  "
      ]
     },
     "execution_count": 55,
     "metadata": {},
     "output_type": "execute_result"
    }
   ],
   "source": [
    "df.describe()"
   ]
  },
  {
   "cell_type": "markdown",
   "id": "cf3c09fe-0cce-4728-9767-01137263fb4b",
   "metadata": {},
   "source": [
    "<div style=\"text-indent:30px; text-align:justify\">Чтобы посмотреть статистику по нечисловым признакам, нужно явно указать интересующие нас типы в параметре <strong>include</strong>. </div>\n",
    "<div style=\"text-indent:30px; text-align:justify\">Можно также задать <strong>include='all'</strong>, чтоб вывести статистику по всем имеющимся признакам.</div>"
   ]
  },
  {
   "cell_type": "code",
   "execution_count": 57,
   "id": "7ec065ab-f885-444f-899d-19bb588dab4f",
   "metadata": {},
   "outputs": [
    {
     "data": {
      "text/html": [
       "<div>\n",
       "<style scoped>\n",
       "    .dataframe tbody tr th:only-of-type {\n",
       "        vertical-align: middle;\n",
       "    }\n",
       "\n",
       "    .dataframe tbody tr th {\n",
       "        vertical-align: top;\n",
       "    }\n",
       "\n",
       "    .dataframe thead th {\n",
       "        text-align: right;\n",
       "    }\n",
       "</style>\n",
       "<table border=\"1\" class=\"dataframe\">\n",
       "  <thead>\n",
       "    <tr style=\"text-align: right;\">\n",
       "      <th></th>\n",
       "      <th>State</th>\n",
       "      <th>International plan</th>\n",
       "      <th>Voice mail plan</th>\n",
       "    </tr>\n",
       "  </thead>\n",
       "  <tbody>\n",
       "    <tr>\n",
       "      <th>count</th>\n",
       "      <td>3333</td>\n",
       "      <td>3333</td>\n",
       "      <td>3333</td>\n",
       "    </tr>\n",
       "    <tr>\n",
       "      <th>unique</th>\n",
       "      <td>51</td>\n",
       "      <td>2</td>\n",
       "      <td>2</td>\n",
       "    </tr>\n",
       "    <tr>\n",
       "      <th>top</th>\n",
       "      <td>WV</td>\n",
       "      <td>No</td>\n",
       "      <td>No</td>\n",
       "    </tr>\n",
       "    <tr>\n",
       "      <th>freq</th>\n",
       "      <td>106</td>\n",
       "      <td>3010</td>\n",
       "      <td>2411</td>\n",
       "    </tr>\n",
       "  </tbody>\n",
       "</table>\n",
       "</div>"
      ],
      "text/plain": [
       "       State International plan Voice mail plan\n",
       "count   3333               3333            3333\n",
       "unique    51                  2               2\n",
       "top       WV                 No              No\n",
       "freq     106               3010            2411"
      ]
     },
     "execution_count": 57,
     "metadata": {},
     "output_type": "execute_result"
    }
   ],
   "source": [
    "df.describe(include=[\"object\", \"bool\"])"
   ]
  },
  {
   "cell_type": "markdown",
   "id": "224e8290-8b8c-4708-b904-723ae8438481",
   "metadata": {},
   "source": [
    "<div style=\"text-indent:30px; text-align:justify\">Для категориальных (тип <strong>object</strong>) и логических (тип <strong>bool</strong>) признаков мы можем использовать метод <strong>value_counts()</strong>. </div>\n",
    "<div style=\"text-indent:30px; text-align:justify; margin-top:20px\">Давайте посмотрим на распределение <strong>Churn</strong>:</div>"
   ]
  },
  {
   "cell_type": "code",
   "execution_count": 59,
   "id": "629d03f3-e6c7-4acb-b76c-3833debb6949",
   "metadata": {},
   "outputs": [
    {
     "data": {
      "text/plain": [
       "Churn\n",
       "0    2850\n",
       "1     483\n",
       "Name: count, dtype: int64"
      ]
     },
     "execution_count": 59,
     "metadata": {},
     "output_type": "execute_result"
    }
   ],
   "source": [
    "df['Churn'].value_counts()"
   ]
  },
  {
   "cell_type": "markdown",
   "id": "ac40b6fc-e77a-44df-969e-5ec6e44a06c4",
   "metadata": {},
   "source": [
    "<div style=\"text-indent:30px; text-align:justify\">Как видно, 2850 пользователей (Churn=0) из 3333 являются лояльными. От оператора связи ушли 483 клиента.</div>\n",
    "<div style=\"text-indent:30px; text-align:justify\">Чтобы получить пропорции, используем параметр <strong>normalize=True</strong>:</div>"
   ]
  },
  {
   "cell_type": "code",
   "execution_count": 61,
   "id": "1062048b-2bf2-4931-8252-5db2d71eae21",
   "metadata": {},
   "outputs": [
    {
     "data": {
      "text/plain": [
       "Churn\n",
       "0    0.855\n",
       "1    0.145\n",
       "Name: proportion, dtype: float64"
      ]
     },
     "execution_count": 61,
     "metadata": {},
     "output_type": "execute_result"
    }
   ],
   "source": [
    "pd.set_option(\"display.precision\", 3)    # Три знака послезапятой \n",
    "df[\"Churn\"].value_counts(normalize=True)"
   ]
  },
  {
   "cell_type": "markdown",
   "id": "ada30eb5-2a77-4366-a154-a67f733df3de",
   "metadata": {},
   "source": [
    "<div style=\"text-indent:30px; text-align:justify\">Посмотрим на распределение пользователей по переменной <strong>Area code</strong> (Код города). Укажем значение параметра <strong>normalize=True</strong>, чтобы посмотреть не абсолютные частоты, а относительные.</div>"
   ]
  },
  {
   "cell_type": "code",
   "execution_count": 63,
   "id": "15e4b9f6-9306-4a8d-84c5-f6ead78ab7fa",
   "metadata": {},
   "outputs": [
    {
     "data": {
      "text/plain": [
       "Area code\n",
       "415    0.497\n",
       "510    0.252\n",
       "408    0.251\n",
       "Name: proportion, dtype: float64"
      ]
     },
     "execution_count": 63,
     "metadata": {},
     "output_type": "execute_result"
    }
   ],
   "source": [
    "df[\"Area code\"].value_counts(normalize=True)"
   ]
  },
  {
   "cell_type": "markdown",
   "id": "39be5ce0-5684-4db1-add1-7efe8af781dd",
   "metadata": {},
   "source": [
    "<h3 style=\"text-align:center\">Сортировка</h3>\n",
    "\n",
    "<div style=\"text-indent:30px; text-align:justify\">DataFrame можно отсортировать по значению какого-нибудь из признаков. В нашем случае, например, по <strong>Total day charge</strong> (Общая дневная плата) (<strong>ascending=False</strong> для сортировки по убыванию):</div>"
   ]
  },
  {
   "cell_type": "code",
   "execution_count": 65,
   "id": "7621c3ac-9ba2-4d34-a806-072cd5e530a8",
   "metadata": {},
   "outputs": [
    {
     "data": {
      "text/html": [
       "<div>\n",
       "<style scoped>\n",
       "    .dataframe tbody tr th:only-of-type {\n",
       "        vertical-align: middle;\n",
       "    }\n",
       "\n",
       "    .dataframe tbody tr th {\n",
       "        vertical-align: top;\n",
       "    }\n",
       "\n",
       "    .dataframe thead th {\n",
       "        text-align: right;\n",
       "    }\n",
       "</style>\n",
       "<table border=\"1\" class=\"dataframe\">\n",
       "  <thead>\n",
       "    <tr style=\"text-align: right;\">\n",
       "      <th></th>\n",
       "      <th>State</th>\n",
       "      <th>Account length</th>\n",
       "      <th>Area code</th>\n",
       "      <th>International plan</th>\n",
       "      <th>Voice mail plan</th>\n",
       "      <th>Number vmail messages</th>\n",
       "      <th>Total day minutes</th>\n",
       "      <th>Total day calls</th>\n",
       "      <th>Total day charge</th>\n",
       "      <th>Total eve minutes</th>\n",
       "      <th>Total eve calls</th>\n",
       "      <th>Total eve charge</th>\n",
       "      <th>Total night minutes</th>\n",
       "      <th>Total night calls</th>\n",
       "      <th>Total night charge</th>\n",
       "      <th>Total intl minutes</th>\n",
       "      <th>Total intl calls</th>\n",
       "      <th>Total intl charge</th>\n",
       "      <th>Customer service calls</th>\n",
       "      <th>Churn</th>\n",
       "    </tr>\n",
       "  </thead>\n",
       "  <tbody>\n",
       "    <tr>\n",
       "      <th>365</th>\n",
       "      <td>CO</td>\n",
       "      <td>154</td>\n",
       "      <td>415</td>\n",
       "      <td>No</td>\n",
       "      <td>No</td>\n",
       "      <td>0</td>\n",
       "      <td>350.8</td>\n",
       "      <td>75</td>\n",
       "      <td>59.64</td>\n",
       "      <td>216.5</td>\n",
       "      <td>94</td>\n",
       "      <td>18.40</td>\n",
       "      <td>253.9</td>\n",
       "      <td>100</td>\n",
       "      <td>11.43</td>\n",
       "      <td>10.1</td>\n",
       "      <td>9</td>\n",
       "      <td>2.73</td>\n",
       "      <td>1</td>\n",
       "      <td>1</td>\n",
       "    </tr>\n",
       "    <tr>\n",
       "      <th>985</th>\n",
       "      <td>NY</td>\n",
       "      <td>64</td>\n",
       "      <td>415</td>\n",
       "      <td>Yes</td>\n",
       "      <td>No</td>\n",
       "      <td>0</td>\n",
       "      <td>346.8</td>\n",
       "      <td>55</td>\n",
       "      <td>58.96</td>\n",
       "      <td>249.5</td>\n",
       "      <td>79</td>\n",
       "      <td>21.21</td>\n",
       "      <td>275.4</td>\n",
       "      <td>102</td>\n",
       "      <td>12.39</td>\n",
       "      <td>13.3</td>\n",
       "      <td>9</td>\n",
       "      <td>3.59</td>\n",
       "      <td>1</td>\n",
       "      <td>1</td>\n",
       "    </tr>\n",
       "    <tr>\n",
       "      <th>2594</th>\n",
       "      <td>OH</td>\n",
       "      <td>115</td>\n",
       "      <td>510</td>\n",
       "      <td>Yes</td>\n",
       "      <td>No</td>\n",
       "      <td>0</td>\n",
       "      <td>345.3</td>\n",
       "      <td>81</td>\n",
       "      <td>58.70</td>\n",
       "      <td>203.4</td>\n",
       "      <td>106</td>\n",
       "      <td>17.29</td>\n",
       "      <td>217.5</td>\n",
       "      <td>107</td>\n",
       "      <td>9.79</td>\n",
       "      <td>11.8</td>\n",
       "      <td>8</td>\n",
       "      <td>3.19</td>\n",
       "      <td>1</td>\n",
       "      <td>1</td>\n",
       "    </tr>\n",
       "    <tr>\n",
       "      <th>156</th>\n",
       "      <td>OH</td>\n",
       "      <td>83</td>\n",
       "      <td>415</td>\n",
       "      <td>No</td>\n",
       "      <td>No</td>\n",
       "      <td>0</td>\n",
       "      <td>337.4</td>\n",
       "      <td>120</td>\n",
       "      <td>57.36</td>\n",
       "      <td>227.4</td>\n",
       "      <td>116</td>\n",
       "      <td>19.33</td>\n",
       "      <td>153.9</td>\n",
       "      <td>114</td>\n",
       "      <td>6.93</td>\n",
       "      <td>15.8</td>\n",
       "      <td>7</td>\n",
       "      <td>4.27</td>\n",
       "      <td>0</td>\n",
       "      <td>1</td>\n",
       "    </tr>\n",
       "    <tr>\n",
       "      <th>605</th>\n",
       "      <td>MO</td>\n",
       "      <td>112</td>\n",
       "      <td>415</td>\n",
       "      <td>No</td>\n",
       "      <td>No</td>\n",
       "      <td>0</td>\n",
       "      <td>335.5</td>\n",
       "      <td>77</td>\n",
       "      <td>57.04</td>\n",
       "      <td>212.5</td>\n",
       "      <td>109</td>\n",
       "      <td>18.06</td>\n",
       "      <td>265.0</td>\n",
       "      <td>132</td>\n",
       "      <td>11.93</td>\n",
       "      <td>12.7</td>\n",
       "      <td>8</td>\n",
       "      <td>3.43</td>\n",
       "      <td>2</td>\n",
       "      <td>1</td>\n",
       "    </tr>\n",
       "  </tbody>\n",
       "</table>\n",
       "</div>"
      ],
      "text/plain": [
       "     State  Account length  Area code International plan Voice mail plan  \\\n",
       "365     CO             154        415                 No              No   \n",
       "985     NY              64        415                Yes              No   \n",
       "2594    OH             115        510                Yes              No   \n",
       "156     OH              83        415                 No              No   \n",
       "605     MO             112        415                 No              No   \n",
       "\n",
       "      Number vmail messages  Total day minutes  Total day calls  \\\n",
       "365                       0              350.8               75   \n",
       "985                       0              346.8               55   \n",
       "2594                      0              345.3               81   \n",
       "156                       0              337.4              120   \n",
       "605                       0              335.5               77   \n",
       "\n",
       "      Total day charge  Total eve minutes  Total eve calls  Total eve charge  \\\n",
       "365              59.64              216.5               94             18.40   \n",
       "985              58.96              249.5               79             21.21   \n",
       "2594             58.70              203.4              106             17.29   \n",
       "156              57.36              227.4              116             19.33   \n",
       "605              57.04              212.5              109             18.06   \n",
       "\n",
       "      Total night minutes  Total night calls  Total night charge  \\\n",
       "365                 253.9                100               11.43   \n",
       "985                 275.4                102               12.39   \n",
       "2594                217.5                107                9.79   \n",
       "156                 153.9                114                6.93   \n",
       "605                 265.0                132               11.93   \n",
       "\n",
       "      Total intl minutes  Total intl calls  Total intl charge  \\\n",
       "365                 10.1                 9               2.73   \n",
       "985                 13.3                 9               3.59   \n",
       "2594                11.8                 8               3.19   \n",
       "156                 15.8                 7               4.27   \n",
       "605                 12.7                 8               3.43   \n",
       "\n",
       "      Customer service calls  Churn  \n",
       "365                        1      1  \n",
       "985                        1      1  \n",
       "2594                       1      1  \n",
       "156                        0      1  \n",
       "605                        2      1  "
      ]
     },
     "execution_count": 65,
     "metadata": {},
     "output_type": "execute_result"
    }
   ],
   "source": [
    "df.sort_values(by=\"Total day charge\", ascending=False).head()"
   ]
  },
  {
   "cell_type": "markdown",
   "id": "0e6d2f12-fea8-46f5-953c-619ae0d2a8b6",
   "metadata": {},
   "source": [
    "<div style=\"text-indent:30px; text-align:justify\">Сортировать можно и по группе столбцов:</div>"
   ]
  },
  {
   "cell_type": "code",
   "execution_count": 67,
   "id": "0231a9f6-f57d-4654-b6da-ae8d02c83cf1",
   "metadata": {},
   "outputs": [
    {
     "data": {
      "text/html": [
       "<div>\n",
       "<style scoped>\n",
       "    .dataframe tbody tr th:only-of-type {\n",
       "        vertical-align: middle;\n",
       "    }\n",
       "\n",
       "    .dataframe tbody tr th {\n",
       "        vertical-align: top;\n",
       "    }\n",
       "\n",
       "    .dataframe thead th {\n",
       "        text-align: right;\n",
       "    }\n",
       "</style>\n",
       "<table border=\"1\" class=\"dataframe\">\n",
       "  <thead>\n",
       "    <tr style=\"text-align: right;\">\n",
       "      <th></th>\n",
       "      <th>State</th>\n",
       "      <th>Account length</th>\n",
       "      <th>Area code</th>\n",
       "      <th>International plan</th>\n",
       "      <th>Voice mail plan</th>\n",
       "      <th>Number vmail messages</th>\n",
       "      <th>Total day minutes</th>\n",
       "      <th>Total day calls</th>\n",
       "      <th>Total day charge</th>\n",
       "      <th>Total eve minutes</th>\n",
       "      <th>Total eve calls</th>\n",
       "      <th>Total eve charge</th>\n",
       "      <th>Total night minutes</th>\n",
       "      <th>Total night calls</th>\n",
       "      <th>Total night charge</th>\n",
       "      <th>Total intl minutes</th>\n",
       "      <th>Total intl calls</th>\n",
       "      <th>Total intl charge</th>\n",
       "      <th>Customer service calls</th>\n",
       "      <th>Churn</th>\n",
       "    </tr>\n",
       "  </thead>\n",
       "  <tbody>\n",
       "    <tr>\n",
       "      <th>688</th>\n",
       "      <td>MN</td>\n",
       "      <td>13</td>\n",
       "      <td>510</td>\n",
       "      <td>No</td>\n",
       "      <td>Yes</td>\n",
       "      <td>21</td>\n",
       "      <td>315.6</td>\n",
       "      <td>105</td>\n",
       "      <td>53.65</td>\n",
       "      <td>208.9</td>\n",
       "      <td>71</td>\n",
       "      <td>17.76</td>\n",
       "      <td>260.1</td>\n",
       "      <td>123</td>\n",
       "      <td>11.70</td>\n",
       "      <td>12.1</td>\n",
       "      <td>3</td>\n",
       "      <td>3.27</td>\n",
       "      <td>3</td>\n",
       "      <td>0</td>\n",
       "    </tr>\n",
       "    <tr>\n",
       "      <th>2259</th>\n",
       "      <td>NC</td>\n",
       "      <td>210</td>\n",
       "      <td>415</td>\n",
       "      <td>No</td>\n",
       "      <td>Yes</td>\n",
       "      <td>31</td>\n",
       "      <td>313.8</td>\n",
       "      <td>87</td>\n",
       "      <td>53.35</td>\n",
       "      <td>147.7</td>\n",
       "      <td>103</td>\n",
       "      <td>12.55</td>\n",
       "      <td>192.7</td>\n",
       "      <td>97</td>\n",
       "      <td>8.67</td>\n",
       "      <td>10.1</td>\n",
       "      <td>7</td>\n",
       "      <td>2.73</td>\n",
       "      <td>3</td>\n",
       "      <td>0</td>\n",
       "    </tr>\n",
       "    <tr>\n",
       "      <th>534</th>\n",
       "      <td>LA</td>\n",
       "      <td>67</td>\n",
       "      <td>510</td>\n",
       "      <td>No</td>\n",
       "      <td>No</td>\n",
       "      <td>0</td>\n",
       "      <td>310.4</td>\n",
       "      <td>97</td>\n",
       "      <td>52.77</td>\n",
       "      <td>66.5</td>\n",
       "      <td>123</td>\n",
       "      <td>5.65</td>\n",
       "      <td>246.5</td>\n",
       "      <td>99</td>\n",
       "      <td>11.09</td>\n",
       "      <td>9.2</td>\n",
       "      <td>10</td>\n",
       "      <td>2.48</td>\n",
       "      <td>4</td>\n",
       "      <td>0</td>\n",
       "    </tr>\n",
       "    <tr>\n",
       "      <th>575</th>\n",
       "      <td>SD</td>\n",
       "      <td>114</td>\n",
       "      <td>415</td>\n",
       "      <td>No</td>\n",
       "      <td>Yes</td>\n",
       "      <td>36</td>\n",
       "      <td>309.9</td>\n",
       "      <td>90</td>\n",
       "      <td>52.68</td>\n",
       "      <td>200.3</td>\n",
       "      <td>89</td>\n",
       "      <td>17.03</td>\n",
       "      <td>183.5</td>\n",
       "      <td>105</td>\n",
       "      <td>8.26</td>\n",
       "      <td>14.2</td>\n",
       "      <td>2</td>\n",
       "      <td>3.83</td>\n",
       "      <td>1</td>\n",
       "      <td>0</td>\n",
       "    </tr>\n",
       "    <tr>\n",
       "      <th>2858</th>\n",
       "      <td>AL</td>\n",
       "      <td>141</td>\n",
       "      <td>510</td>\n",
       "      <td>No</td>\n",
       "      <td>Yes</td>\n",
       "      <td>28</td>\n",
       "      <td>308.0</td>\n",
       "      <td>123</td>\n",
       "      <td>52.36</td>\n",
       "      <td>247.8</td>\n",
       "      <td>128</td>\n",
       "      <td>21.06</td>\n",
       "      <td>152.9</td>\n",
       "      <td>103</td>\n",
       "      <td>6.88</td>\n",
       "      <td>7.4</td>\n",
       "      <td>3</td>\n",
       "      <td>2.00</td>\n",
       "      <td>1</td>\n",
       "      <td>0</td>\n",
       "    </tr>\n",
       "  </tbody>\n",
       "</table>\n",
       "</div>"
      ],
      "text/plain": [
       "     State  Account length  Area code International plan Voice mail plan  \\\n",
       "688     MN              13        510                 No             Yes   \n",
       "2259    NC             210        415                 No             Yes   \n",
       "534     LA              67        510                 No              No   \n",
       "575     SD             114        415                 No             Yes   \n",
       "2858    AL             141        510                 No             Yes   \n",
       "\n",
       "      Number vmail messages  Total day minutes  Total day calls  \\\n",
       "688                      21              315.6              105   \n",
       "2259                     31              313.8               87   \n",
       "534                       0              310.4               97   \n",
       "575                      36              309.9               90   \n",
       "2858                     28              308.0              123   \n",
       "\n",
       "      Total day charge  Total eve minutes  Total eve calls  Total eve charge  \\\n",
       "688              53.65              208.9               71             17.76   \n",
       "2259             53.35              147.7              103             12.55   \n",
       "534              52.77               66.5              123              5.65   \n",
       "575              52.68              200.3               89             17.03   \n",
       "2858             52.36              247.8              128             21.06   \n",
       "\n",
       "      Total night minutes  Total night calls  Total night charge  \\\n",
       "688                 260.1                123               11.70   \n",
       "2259                192.7                 97                8.67   \n",
       "534                 246.5                 99               11.09   \n",
       "575                 183.5                105                8.26   \n",
       "2858                152.9                103                6.88   \n",
       "\n",
       "      Total intl minutes  Total intl calls  Total intl charge  \\\n",
       "688                 12.1                 3               3.27   \n",
       "2259                10.1                 7               2.73   \n",
       "534                  9.2                10               2.48   \n",
       "575                 14.2                 2               3.83   \n",
       "2858                 7.4                 3               2.00   \n",
       "\n",
       "      Customer service calls  Churn  \n",
       "688                        3      0  \n",
       "2259                       3      0  \n",
       "534                        4      0  \n",
       "575                        1      0  \n",
       "2858                       1      0  "
      ]
     },
     "execution_count": 67,
     "metadata": {},
     "output_type": "execute_result"
    }
   ],
   "source": [
    "df.sort_values(by=[\"Churn\", \"Total day charge\"], ascending=[True, False]).head()"
   ]
  }
 ],
 "metadata": {
  "kernelspec": {
   "display_name": "Python 3 (ipykernel)",
   "language": "python",
   "name": "python3"
  },
  "language_info": {
   "codemirror_mode": {
    "name": "ipython",
    "version": 3
   },
   "file_extension": ".py",
   "mimetype": "text/x-python",
   "name": "python",
   "nbconvert_exporter": "python",
   "pygments_lexer": "ipython3",
   "version": "3.12.4"
  }
 },
 "nbformat": 4,
 "nbformat_minor": 5
}
